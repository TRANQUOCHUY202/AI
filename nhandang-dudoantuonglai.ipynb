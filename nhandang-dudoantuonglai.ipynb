{
  "nbformat": 4,
  "nbformat_minor": 0,
  "metadata": {
    "colab": {
      "provenance": [],
      "mount_file_id": "1x-Zx2IsafaF4_U0cM5D2BWsGK31o31FF",
      "authorship_tag": "ABX9TyMsLt89WzK1CKVFJC/UhVLI",
      "include_colab_link": true
    },
    "kernelspec": {
      "name": "python3",
      "display_name": "Python 3"
    },
    "language_info": {
      "name": "python"
    }
  },
  "cells": [
    {
      "cell_type": "markdown",
      "metadata": {
        "id": "view-in-github",
        "colab_type": "text"
      },
      "source": [
        "<a href=\"https://colab.research.google.com/github/TRANQUOCHUY202/AI/blob/main/nhandang-dudoantuonglai.ipynb\" target=\"_parent\"><img src=\"https://colab.research.google.com/assets/colab-badge.svg\" alt=\"Open In Colab\"/></a>"
      ]
    },
    {
      "cell_type": "code",
      "source": [
        "from google.colab import drive\n",
        "drive.mount('/content/drive')"
      ],
      "metadata": {
        "colab": {
          "base_uri": "https://localhost:8080/"
        },
        "id": "_1A0pJSXr9Df",
        "outputId": "51daa02e-ba30-447e-e05f-3be9a3b5f35a"
      },
      "execution_count": null,
      "outputs": [
        {
          "output_type": "stream",
          "name": "stdout",
          "text": [
            "Drive already mounted at /content/drive; to attempt to forcibly remount, call drive.mount(\"/content/drive\", force_remount=True).\n"
          ]
        }
      ]
    },
    {
      "cell_type": "code",
      "execution_count": null,
      "metadata": {
        "colab": {
          "base_uri": "https://localhost:8080/"
        },
        "id": "NkjgpVSE96oc",
        "outputId": "3b8d1348-b8ee-457c-a766-558810c7aa5c"
      },
      "outputs": [
        {
          "output_type": "stream",
          "name": "stdout",
          "text": [
            "Found 1033 images belonging to 18 classes.\n"
          ]
        }
      ],
      "source": [
        "#importing libraries\n",
        "import tensorflow as tf\n",
        "import numpy as np\n",
        "import pandas as pd\n",
        "import matplotlib.pyplot as plt\n",
        "from keras.preprocessing.image import ImageDataGenerator\n",
        "from keras.utils import to_categorical, load_img, img_to_array\n",
        "\n",
        "#Preprocessing để Training \n",
        "# Load ảnh, chia loại, định lại cỡ ảnh 30x40, rescale ảnh và định dạng ảnh về binary\n",
        "train_datagen = ImageDataGenerator(rescale = 1./255,\n",
        "                                    shear_range = 0.2,\n",
        "                                    zoom_range = 0.2,\n",
        "                                    horizontal_flip = True\n",
        "                                  )\n",
        "train_datagen = ImageDataGenerator(rescale = 1./255)\n",
        "training_set = train_datagen.flow_from_directory('/content/drive/MyDrive/BT1/Name_class/Training', \n",
        "                                                 target_size = (30,40), \n",
        "                                                 batch_size = 32, \n",
        "                                                 class_mode = 'categorical')"
      ]
    },
    {
      "cell_type": "code",
      "source": [
        "# Load ảnh, chia loại, định lại cỡ ảnh 30x40, rescale ảnh và định dạng ảnh về binary\n",
        "test_datagen = ImageDataGenerator(rescale = 1./255,\n",
        "                                    shear_range = 0.2,\n",
        "                                    zoom_range = 0.2,\n",
        "                                    horizontal_flip = True\n",
        "                                  )\n",
        "test_set = test_datagen.flow_from_directory('/content/drive/MyDrive/BT1/Name_class/Test', \n",
        "                                                \n",
        "                                                 target_size = (30,40), \n",
        "                                                 batch_size = 32, \n",
        "                                                class_mode = 'categorical')\n",
        "training_set.class_indices\n",
        "test_set.class_indices"
      ],
      "metadata": {
        "colab": {
          "base_uri": "https://localhost:8080/"
        },
        "id": "JazKUrqZsMDA",
        "outputId": "bda13430-be46-480b-9d23-d81ed6ae7c9d"
      },
      "execution_count": null,
      "outputs": [
        {
          "output_type": "stream",
          "name": "stdout",
          "text": [
            "Found 54 images belonging to 18 classes.\n"
          ]
        },
        {
          "output_type": "execute_result",
          "data": {
            "text/plain": [
              "{'Binh': 0,\n",
              " 'Chi': 1,\n",
              " 'Chuong': 2,\n",
              " 'Dong': 3,\n",
              " 'DuyThanh': 4,\n",
              " 'Hieu': 5,\n",
              " 'MinhPhi': 6,\n",
              " 'Nam': 7,\n",
              " 'NhatHuy': 8,\n",
              " 'Phong': 9,\n",
              " 'QuocHuy': 10,\n",
              " 'TanPhi': 11,\n",
              " 'Thang': 12,\n",
              " 'Tien': 13,\n",
              " 'Tri': 14,\n",
              " 'Tu': 15,\n",
              " 'Tuan': 16,\n",
              " 'Tung': 17}"
            ]
          },
          "metadata": {},
          "execution_count": 68
        }
      ]
    },
    {
      "cell_type": "code",
      "source": [
        "from keras.preprocessing.image import ImageDataGenerator\n",
        "from keras.models import Sequential\n",
        "from keras.layers import Dense, Flatten, Dropout, Conv2D, MaxPooling2D, Normalization\n",
        "import keras.backend as K\n",
        "from keras.layers import LeakyReLU\n",
        "from keras.callbacks import EarlyStopping\n",
        "from keras.utils import to_categorical\n",
        "from keras.optimizers import Adam\n",
        "\n",
        "# Tạo model\n",
        "model = Sequential()\n",
        "#Thêm lớp chuyển đổi\n",
        "model.add(tf.keras.layers.Conv2D(32,(3,3), activation='relu', input_shape=[30,40,3],padding='same')) #3 kênh màu RGB\n",
        "model.add(tf.keras.layers.Conv2D(32,(3,3), activation='relu',padding='same'))\n",
        "model.add(LeakyReLU(alpha=0.1))\n",
        "#Pooling\n",
        "model.add(MaxPooling2D(pool_size=(2,2) , padding = 'same'))\n",
        "#Tích chập lớp thứ 2\n",
        "model.add(Conv2D(64,(3,3), activation = 'relu',padding='same'))\n",
        "model.add(Conv2D(64,(3,3), activation = 'relu',padding='same'))\n",
        "model.add(Dropout( 0.1))\n",
        "model.add(MaxPooling2D(pool_size=(2,2) , padding = 'same'))\n",
        "\n",
        "model.add(Conv2D(128,(3,3), activation = 'relu',padding='same'))\n",
        "model.add(Conv2D(128,(3,3), activation = 'relu',padding='same'))\n",
        "model.add(LeakyReLU(alpha = 0.2))\n",
        "model.add(MaxPooling2D(pool_size=(2,2) , padding = 'same'))\n",
        "#Làm phẳng\n",
        "model.add(Flatten())\n",
        "  # ANN Layer\n",
        "#Connect\n",
        "model.add(Dense(128, activation='relu'))\n",
        "model.add(LeakyReLU(alpha = 0.2))\n",
        "model.add(Dense(32, activation='relu'))\n",
        "model.add(LeakyReLU(alpha = 0.1))\n",
        "\n",
        "#Output\n",
        "model.add(Dense(18, activation='softmax'))\n",
        "model.summary()"
      ],
      "metadata": {
        "colab": {
          "base_uri": "https://localhost:8080/"
        },
        "id": "EoNxFV35en_B",
        "outputId": "76780645-4131-4cec-fee9-eff9f67a8cab"
      },
      "execution_count": null,
      "outputs": [
        {
          "output_type": "stream",
          "name": "stdout",
          "text": [
            "Model: \"sequential_10\"\n",
            "_________________________________________________________________\n",
            " Layer (type)                Output Shape              Param #   \n",
            "=================================================================\n",
            " conv2d_42 (Conv2D)          (None, 30, 40, 32)        896       \n",
            "                                                                 \n",
            " conv2d_43 (Conv2D)          (None, 30, 40, 32)        9248      \n",
            "                                                                 \n",
            " leaky_re_lu_40 (LeakyReLU)  (None, 30, 40, 32)        0         \n",
            "                                                                 \n",
            " max_pooling2d_30 (MaxPoolin  (None, 15, 20, 32)       0         \n",
            " g2D)                                                            \n",
            "                                                                 \n",
            " conv2d_44 (Conv2D)          (None, 15, 20, 64)        18496     \n",
            "                                                                 \n",
            " conv2d_45 (Conv2D)          (None, 15, 20, 64)        36928     \n",
            "                                                                 \n",
            " dropout_10 (Dropout)        (None, 15, 20, 64)        0         \n",
            "                                                                 \n",
            " max_pooling2d_31 (MaxPoolin  (None, 8, 10, 64)        0         \n",
            " g2D)                                                            \n",
            "                                                                 \n",
            " conv2d_46 (Conv2D)          (None, 8, 10, 128)        73856     \n",
            "                                                                 \n",
            " conv2d_47 (Conv2D)          (None, 8, 10, 128)        147584    \n",
            "                                                                 \n",
            " leaky_re_lu_41 (LeakyReLU)  (None, 8, 10, 128)        0         \n",
            "                                                                 \n",
            " max_pooling2d_32 (MaxPoolin  (None, 4, 5, 128)        0         \n",
            " g2D)                                                            \n",
            "                                                                 \n",
            " flatten_10 (Flatten)        (None, 2560)              0         \n",
            "                                                                 \n",
            " dense_30 (Dense)            (None, 128)               327808    \n",
            "                                                                 \n",
            " leaky_re_lu_42 (LeakyReLU)  (None, 128)               0         \n",
            "                                                                 \n",
            " dense_31 (Dense)            (None, 32)                4128      \n",
            "                                                                 \n",
            " leaky_re_lu_43 (LeakyReLU)  (None, 32)                0         \n",
            "                                                                 \n",
            " dense_32 (Dense)            (None, 18)                594       \n",
            "                                                                 \n",
            "=================================================================\n",
            "Total params: 619,538\n",
            "Trainable params: 619,538\n",
            "Non-trainable params: 0\n",
            "_________________________________________________________________\n"
          ]
        }
      ]
    },
    {
      "cell_type": "code",
      "source": [
        "# Thiết lập thông số\n",
        "from keras.optimizers import Adam\n",
        "model.compile( loss = 'categorical_crossentropy', optimizer=Adam(), metrics = ['accuracy'])\n"
      ],
      "metadata": {
        "id": "Xh4qJNE_qKth"
      },
      "execution_count": null,
      "outputs": []
    },
    {
      "cell_type": "code",
      "source": [
        "# Huấn luyện mô hình\n",
        "a = model.fit_generator( training_set, validation_data=test_set, epochs=80, steps_per_epoch=len(training_set), \n",
        "                        validation_steps=len(test_set))"
      ],
      "metadata": {
        "colab": {
          "base_uri": "https://localhost:8080/"
        },
        "id": "nygoyjCBqTsR",
        "outputId": "885d55a8-6984-4d22-de0c-604da625faa5"
      },
      "execution_count": null,
      "outputs": [
        {
          "output_type": "stream",
          "name": "stderr",
          "text": [
            "<ipython-input-81-e3a0f90c012f>:2: UserWarning: `Model.fit_generator` is deprecated and will be removed in a future version. Please use `Model.fit`, which supports generators.\n",
            "  a = model.fit_generator( training_set, validation_data=test_set, epochs=80, steps_per_epoch=len(training_set),\n"
          ]
        },
        {
          "output_type": "stream",
          "name": "stdout",
          "text": [
            "Epoch 1/80\n",
            "33/33 [==============================] - 18s 543ms/step - loss: 2.5486e-06 - accuracy: 1.0000 - val_loss: 3.4799 - val_accuracy: 0.7778\n",
            "Epoch 2/80\n",
            "33/33 [==============================] - 17s 519ms/step - loss: 2.3253e-06 - accuracy: 1.0000 - val_loss: 4.3851 - val_accuracy: 0.7222\n",
            "Epoch 3/80\n",
            "33/33 [==============================] - 17s 516ms/step - loss: 2.3310e-06 - accuracy: 1.0000 - val_loss: 5.2258 - val_accuracy: 0.6481\n",
            "Epoch 4/80\n",
            "33/33 [==============================] - 17s 510ms/step - loss: 2.1987e-06 - accuracy: 1.0000 - val_loss: 3.7412 - val_accuracy: 0.7222\n",
            "Epoch 5/80\n",
            "33/33 [==============================] - 19s 567ms/step - loss: 2.1240e-06 - accuracy: 1.0000 - val_loss: 3.9735 - val_accuracy: 0.6852\n",
            "Epoch 6/80\n",
            "33/33 [==============================] - 17s 518ms/step - loss: 2.1233e-06 - accuracy: 1.0000 - val_loss: 2.0286 - val_accuracy: 0.8333\n",
            "Epoch 7/80\n",
            "33/33 [==============================] - 17s 508ms/step - loss: 2.1551e-06 - accuracy: 1.0000 - val_loss: 4.0687 - val_accuracy: 0.7593\n",
            "Epoch 8/80\n",
            "33/33 [==============================] - 18s 544ms/step - loss: 1.9955e-06 - accuracy: 1.0000 - val_loss: 3.5880 - val_accuracy: 0.7222\n",
            "Epoch 9/80\n",
            "33/33 [==============================] - 17s 516ms/step - loss: 1.8309e-06 - accuracy: 1.0000 - val_loss: 3.9375 - val_accuracy: 0.6852\n",
            "Epoch 10/80\n",
            "33/33 [==============================] - 17s 508ms/step - loss: 1.8902e-06 - accuracy: 1.0000 - val_loss: 4.2696 - val_accuracy: 0.6852\n",
            "Epoch 11/80\n",
            "33/33 [==============================] - 18s 535ms/step - loss: 1.9103e-06 - accuracy: 1.0000 - val_loss: 3.4688 - val_accuracy: 0.7222\n",
            "Epoch 12/80\n",
            "33/33 [==============================] - 17s 511ms/step - loss: 1.8307e-06 - accuracy: 1.0000 - val_loss: 2.9327 - val_accuracy: 0.8148\n",
            "Epoch 13/80\n",
            "33/33 [==============================] - 18s 537ms/step - loss: 1.7572e-06 - accuracy: 1.0000 - val_loss: 3.6219 - val_accuracy: 0.7593\n",
            "Epoch 14/80\n",
            "33/33 [==============================] - 17s 511ms/step - loss: 1.6504e-06 - accuracy: 1.0000 - val_loss: 4.0478 - val_accuracy: 0.6667\n",
            "Epoch 15/80\n",
            "33/33 [==============================] - 18s 563ms/step - loss: 1.5641e-06 - accuracy: 1.0000 - val_loss: 4.4435 - val_accuracy: 0.6852\n",
            "Epoch 16/80\n",
            "33/33 [==============================] - 17s 529ms/step - loss: 1.5938e-06 - accuracy: 1.0000 - val_loss: 2.4467 - val_accuracy: 0.7778\n",
            "Epoch 17/80\n",
            "33/33 [==============================] - 18s 542ms/step - loss: 1.5394e-06 - accuracy: 1.0000 - val_loss: 3.5163 - val_accuracy: 0.7407\n",
            "Epoch 18/80\n",
            "33/33 [==============================] - 17s 515ms/step - loss: 1.5138e-06 - accuracy: 1.0000 - val_loss: 2.8008 - val_accuracy: 0.7593\n",
            "Epoch 19/80\n",
            "33/33 [==============================] - 17s 528ms/step - loss: 1.5305e-06 - accuracy: 1.0000 - val_loss: 4.0462 - val_accuracy: 0.6852\n",
            "Epoch 20/80\n",
            "33/33 [==============================] - 17s 506ms/step - loss: 1.4526e-06 - accuracy: 1.0000 - val_loss: 2.8675 - val_accuracy: 0.7407\n",
            "Epoch 21/80\n",
            "33/33 [==============================] - 17s 515ms/step - loss: 1.3879e-06 - accuracy: 1.0000 - val_loss: 5.7467 - val_accuracy: 0.7037\n",
            "Epoch 22/80\n",
            "33/33 [==============================] - 18s 554ms/step - loss: 1.3169e-06 - accuracy: 1.0000 - val_loss: 3.8088 - val_accuracy: 0.6296\n",
            "Epoch 23/80\n",
            "33/33 [==============================] - 17s 521ms/step - loss: 1.2826e-06 - accuracy: 1.0000 - val_loss: 4.2031 - val_accuracy: 0.7593\n",
            "Epoch 24/80\n",
            "33/33 [==============================] - 18s 550ms/step - loss: 1.2747e-06 - accuracy: 1.0000 - val_loss: 2.3925 - val_accuracy: 0.7963\n",
            "Epoch 25/80\n",
            "33/33 [==============================] - 18s 518ms/step - loss: 1.2650e-06 - accuracy: 1.0000 - val_loss: 4.1526 - val_accuracy: 0.7222\n",
            "Epoch 26/80\n",
            "33/33 [==============================] - 19s 573ms/step - loss: 1.1937e-06 - accuracy: 1.0000 - val_loss: 3.0315 - val_accuracy: 0.7407\n",
            "Epoch 27/80\n",
            "33/33 [==============================] - 17s 529ms/step - loss: 1.2214e-06 - accuracy: 1.0000 - val_loss: 3.3403 - val_accuracy: 0.7593\n",
            "Epoch 28/80\n",
            "33/33 [==============================] - 17s 514ms/step - loss: 1.1163e-06 - accuracy: 1.0000 - val_loss: 4.6421 - val_accuracy: 0.6481\n",
            "Epoch 29/80\n",
            "33/33 [==============================] - 18s 544ms/step - loss: 1.1164e-06 - accuracy: 1.0000 - val_loss: 3.8609 - val_accuracy: 0.6667\n",
            "Epoch 30/80\n",
            "33/33 [==============================] - 17s 506ms/step - loss: 1.1955e-06 - accuracy: 1.0000 - val_loss: 3.5173 - val_accuracy: 0.7407\n",
            "Epoch 31/80\n",
            "33/33 [==============================] - 18s 542ms/step - loss: 1.0544e-06 - accuracy: 1.0000 - val_loss: 2.1714 - val_accuracy: 0.8333\n",
            "Epoch 32/80\n",
            "33/33 [==============================] - 17s 514ms/step - loss: 1.0291e-06 - accuracy: 1.0000 - val_loss: 5.1657 - val_accuracy: 0.7037\n",
            "Epoch 33/80\n",
            "33/33 [==============================] - 17s 519ms/step - loss: 1.0287e-06 - accuracy: 1.0000 - val_loss: 4.3392 - val_accuracy: 0.6667\n",
            "Epoch 34/80\n",
            "33/33 [==============================] - 18s 555ms/step - loss: 9.6174e-07 - accuracy: 1.0000 - val_loss: 3.1814 - val_accuracy: 0.7037\n",
            "Epoch 35/80\n",
            "33/33 [==============================] - 17s 522ms/step - loss: 9.5736e-07 - accuracy: 1.0000 - val_loss: 4.3057 - val_accuracy: 0.7037\n",
            "Epoch 36/80\n",
            "33/33 [==============================] - 18s 556ms/step - loss: 9.3705e-07 - accuracy: 1.0000 - val_loss: 3.9033 - val_accuracy: 0.7037\n",
            "Epoch 37/80\n",
            "33/33 [==============================] - 17s 517ms/step - loss: 8.9227e-07 - accuracy: 1.0000 - val_loss: 3.7092 - val_accuracy: 0.7778\n",
            "Epoch 38/80\n",
            "33/33 [==============================] - 17s 505ms/step - loss: 8.6446e-07 - accuracy: 1.0000 - val_loss: 3.7993 - val_accuracy: 0.7593\n",
            "Epoch 39/80\n",
            "33/33 [==============================] - 19s 573ms/step - loss: 8.7462e-07 - accuracy: 1.0000 - val_loss: 2.2437 - val_accuracy: 0.8333\n",
            "Epoch 40/80\n",
            "33/33 [==============================] - 17s 509ms/step - loss: 8.3457e-07 - accuracy: 1.0000 - val_loss: 3.1417 - val_accuracy: 0.7222\n",
            "Epoch 41/80\n",
            "33/33 [==============================] - 18s 549ms/step - loss: 8.3123e-07 - accuracy: 1.0000 - val_loss: 3.6404 - val_accuracy: 0.7037\n",
            "Epoch 42/80\n",
            "33/33 [==============================] - 17s 518ms/step - loss: 8.0838e-07 - accuracy: 1.0000 - val_loss: 4.3693 - val_accuracy: 0.7593\n",
            "Epoch 43/80\n",
            "33/33 [==============================] - 17s 518ms/step - loss: 7.6868e-07 - accuracy: 1.0000 - val_loss: 4.7394 - val_accuracy: 0.6481\n",
            "Epoch 44/80\n",
            "33/33 [==============================] - 17s 516ms/step - loss: 7.3498e-07 - accuracy: 1.0000 - val_loss: 3.0118 - val_accuracy: 0.7593\n",
            "Epoch 45/80\n",
            "33/33 [==============================] - 18s 533ms/step - loss: 7.4133e-07 - accuracy: 1.0000 - val_loss: 4.3861 - val_accuracy: 0.7407\n",
            "Epoch 46/80\n",
            "33/33 [==============================] - 17s 511ms/step - loss: 7.7099e-07 - accuracy: 1.0000 - val_loss: 2.2262 - val_accuracy: 0.7963\n",
            "Epoch 47/80\n",
            "33/33 [==============================] - 17s 515ms/step - loss: 7.0325e-07 - accuracy: 1.0000 - val_loss: 2.4138 - val_accuracy: 0.7222\n",
            "Epoch 48/80\n",
            "33/33 [==============================] - 18s 535ms/step - loss: 6.9032e-07 - accuracy: 1.0000 - val_loss: 2.4869 - val_accuracy: 0.8333\n",
            "Epoch 49/80\n",
            "33/33 [==============================] - 17s 520ms/step - loss: 6.6136e-07 - accuracy: 1.0000 - val_loss: 4.3078 - val_accuracy: 0.7037\n",
            "Epoch 50/80\n",
            "33/33 [==============================] - 18s 534ms/step - loss: 6.3990e-07 - accuracy: 1.0000 - val_loss: 3.6852 - val_accuracy: 0.6852\n",
            "Epoch 51/80\n",
            "33/33 [==============================] - 18s 525ms/step - loss: 6.8698e-07 - accuracy: 1.0000 - val_loss: 2.7393 - val_accuracy: 0.7407\n",
            "Epoch 52/80\n",
            "33/33 [==============================] - 18s 554ms/step - loss: 6.5017e-07 - accuracy: 1.0000 - val_loss: 4.3419 - val_accuracy: 0.7407\n",
            "Epoch 53/80\n",
            "33/33 [==============================] - 17s 517ms/step - loss: 5.9893e-07 - accuracy: 1.0000 - val_loss: 2.3882 - val_accuracy: 0.7963\n",
            "Epoch 54/80\n",
            "33/33 [==============================] - 17s 512ms/step - loss: 6.2385e-07 - accuracy: 1.0000 - val_loss: 2.3592 - val_accuracy: 0.8519\n",
            "Epoch 55/80\n",
            "33/33 [==============================] - 18s 546ms/step - loss: 6.2801e-07 - accuracy: 1.0000 - val_loss: 3.1246 - val_accuracy: 0.7407\n",
            "Epoch 56/80\n",
            "33/33 [==============================] - 17s 513ms/step - loss: 5.7308e-07 - accuracy: 1.0000 - val_loss: 4.2729 - val_accuracy: 0.7593\n",
            "Epoch 57/80\n",
            "33/33 [==============================] - 17s 518ms/step - loss: 5.7689e-07 - accuracy: 1.0000 - val_loss: 4.0938 - val_accuracy: 0.7778\n",
            "Epoch 58/80\n",
            "33/33 [==============================] - 19s 564ms/step - loss: 5.6777e-07 - accuracy: 1.0000 - val_loss: 2.3484 - val_accuracy: 0.8148\n",
            "Epoch 59/80\n",
            "33/33 [==============================] - 17s 522ms/step - loss: 5.2207e-07 - accuracy: 1.0000 - val_loss: 2.7522 - val_accuracy: 0.7778\n",
            "Epoch 60/80\n",
            "33/33 [==============================] - 18s 548ms/step - loss: 5.4734e-07 - accuracy: 1.0000 - val_loss: 5.2378 - val_accuracy: 0.6111\n",
            "Epoch 61/80\n",
            "33/33 [==============================] - 18s 524ms/step - loss: 5.2196e-07 - accuracy: 1.0000 - val_loss: 3.4838 - val_accuracy: 0.7778\n",
            "Epoch 62/80\n",
            "33/33 [==============================] - 17s 513ms/step - loss: 5.1792e-07 - accuracy: 1.0000 - val_loss: 3.9461 - val_accuracy: 0.6852\n",
            "Epoch 63/80\n",
            "33/33 [==============================] - 18s 526ms/step - loss: 5.0026e-07 - accuracy: 1.0000 - val_loss: 3.3902 - val_accuracy: 0.7778\n",
            "Epoch 64/80\n",
            "33/33 [==============================] - 19s 563ms/step - loss: 4.9865e-07 - accuracy: 1.0000 - val_loss: 2.6216 - val_accuracy: 0.8519\n",
            "Epoch 65/80\n",
            "33/33 [==============================] - 18s 528ms/step - loss: 4.6126e-07 - accuracy: 1.0000 - val_loss: 3.7093 - val_accuracy: 0.7593\n",
            "Epoch 66/80\n",
            "33/33 [==============================] - 21s 635ms/step - loss: 4.6922e-07 - accuracy: 1.0000 - val_loss: 5.3036 - val_accuracy: 0.6481\n",
            "Epoch 67/80\n",
            "33/33 [==============================] - 23s 675ms/step - loss: 4.3818e-07 - accuracy: 1.0000 - val_loss: 5.4122 - val_accuracy: 0.7593\n",
            "Epoch 68/80\n",
            "33/33 [==============================] - 22s 674ms/step - loss: 4.5526e-07 - accuracy: 1.0000 - val_loss: 3.0632 - val_accuracy: 0.7778\n",
            "Epoch 69/80\n",
            "33/33 [==============================] - 17s 522ms/step - loss: 4.3898e-07 - accuracy: 1.0000 - val_loss: 4.6810 - val_accuracy: 0.7037\n",
            "Epoch 70/80\n",
            "33/33 [==============================] - 18s 560ms/step - loss: 4.1475e-07 - accuracy: 1.0000 - val_loss: 3.0358 - val_accuracy: 0.8148\n",
            "Epoch 71/80\n",
            "33/33 [==============================] - 18s 534ms/step - loss: 4.1613e-07 - accuracy: 1.0000 - val_loss: 4.6048 - val_accuracy: 0.6852\n",
            "Epoch 72/80\n",
            "33/33 [==============================] - 18s 548ms/step - loss: 3.9398e-07 - accuracy: 1.0000 - val_loss: 3.2924 - val_accuracy: 0.7778\n",
            "Epoch 73/80\n",
            "33/33 [==============================] - 18s 544ms/step - loss: 3.9052e-07 - accuracy: 1.0000 - val_loss: 4.6980 - val_accuracy: 0.7037\n",
            "Epoch 74/80\n",
            "33/33 [==============================] - 18s 544ms/step - loss: 4.2052e-07 - accuracy: 1.0000 - val_loss: 3.3511 - val_accuracy: 0.7593\n",
            "Epoch 75/80\n",
            "33/33 [==============================] - 17s 514ms/step - loss: 3.6951e-07 - accuracy: 1.0000 - val_loss: 4.2727 - val_accuracy: 0.6852\n",
            "Epoch 76/80\n",
            "33/33 [==============================] - 19s 558ms/step - loss: 3.9352e-07 - accuracy: 1.0000 - val_loss: 3.5488 - val_accuracy: 0.7963\n",
            "Epoch 77/80\n",
            "33/33 [==============================] - 17s 521ms/step - loss: 3.6467e-07 - accuracy: 1.0000 - val_loss: 3.7906 - val_accuracy: 0.8148\n",
            "Epoch 78/80\n",
            "33/33 [==============================] - 18s 544ms/step - loss: 3.5382e-07 - accuracy: 1.0000 - val_loss: 4.8235 - val_accuracy: 0.6296\n",
            "Epoch 79/80\n",
            "33/33 [==============================] - 17s 512ms/step - loss: 3.3605e-07 - accuracy: 1.0000 - val_loss: 4.5766 - val_accuracy: 0.7037\n",
            "Epoch 80/80\n",
            "33/33 [==============================] - 17s 523ms/step - loss: 3.6732e-07 - accuracy: 1.0000 - val_loss: 2.8128 - val_accuracy: 0.7593\n"
          ]
        }
      ]
    },
    {
      "cell_type": "code",
      "source": [
        "# đánh giá mô hình\n",
        "test_loss, test_acc = model.evaluate(test_set, verbose=False)\n",
        "print(\"Test loss:\", test_loss)\n",
        "print(\"Test accuracy:\", test_acc)"
      ],
      "metadata": {
        "colab": {
          "base_uri": "https://localhost:8080/"
        },
        "id": "lCd5kxgjOmXA",
        "outputId": "7fe877a3-87d8-4e05-bd9c-972da64a8d28"
      },
      "execution_count": null,
      "outputs": [
        {
          "output_type": "stream",
          "name": "stdout",
          "text": [
            "Test loss: 4.561691761016846\n",
            "Test accuracy: 0.7037037014961243\n"
          ]
        }
      ]
    },
    {
      "cell_type": "code",
      "source": [
        "import matplotlib.pyplot as plt\n",
        "# plot the loss\n",
        "plt.plot(a.history['loss'], label='train loss')\n",
        "plt.plot(a.history['val_loss'], label='val loss')\n",
        "plt.legend()\n",
        "plt.show()\n",
        "plt.savefig('LossVal_loss')\n",
        "\n",
        "# plot the accuracy\n",
        "plt.plot(a.history['accuracy'], label='train acc')\n",
        "plt.plot(a.history['val_accuracy'], label='val acc')\n",
        "plt.legend()\n",
        "plt.show()\n",
        "plt.savefig('AccVal_acc')"
      ],
      "metadata": {
        "colab": {
          "base_uri": "https://localhost:8080/",
          "height": 863
        },
        "id": "fpHQopX6OvQA",
        "outputId": "85a74bdb-99ad-4781-e5df-ff8358f1ff89"
      },
      "execution_count": null,
      "outputs": [
        {
          "output_type": "display_data",
          "data": {
            "text/plain": [
              "<Figure size 640x480 with 1 Axes>"
            ],
            "image/png": "[encoded data removed]"
          },
          "metadata": {}
        },
        {
          "output_type": "display_data",
          "data": {
            "text/plain": [
              "<Figure size 640x480 with 1 Axes>"
            ],
            "image/png": "[encoded data removed]"
          },
          "metadata": {}
        },
        {
          "output_type": "display_data",
          "data": {
            "text/plain": [
              "<Figure size 640x480 with 0 Axes>"
            ]
          },
          "metadata": {}
        }
      ]
    },
    {
      "cell_type": "code",
      "source": [
        "model.save('/content/drive/MyDrive/BT1/Name_class/model_name.h5')"
      ],
      "metadata": {
        "id": "E0ys_RDCO_FA"
      },
      "execution_count": null,
      "outputs": []
    },
    {
      "cell_type": "code",
      "source": [
        "from tensorflow.keras.models import load_model\n",
        "model=load_model('/content/drive/MyDrive/BT1/Name_class/model_name.h5')"
      ],
      "metadata": {
        "id": "CTLajM2lPbhP"
      },
      "execution_count": null,
      "outputs": []
    },
    {
      "cell_type": "code",
      "source": [
        "import os\n",
        "os.chdir('/content/drive/MyDrive/BT1/Name_class/Valid')"
      ],
      "metadata": {
        "id": "rNahpzUJQFSo"
      },
      "execution_count": null,
      "outputs": []
    },
    {
      "cell_type": "code",
      "source": [
        "import numpy as np\n",
        "from keras.preprocessing import image\n",
        "\n",
        "while 1 :\n",
        " ch = input('Chọn' ' image : ')\n",
        "   \n",
        " if (ch=='-'):\n",
        "     break\n",
        " else:\n",
        "   try: \n",
        "     test_image = load_img(\"/content/drive/MyDrive/BT1/Name_class/Valid/{}.jpg\".format(ch),\n",
        "                             target_size=(30,40)) #Scale\n",
        "     test_image = img_to_array(test_image)\n",
        "     plt.imshow(test_image/255)\n",
        "     test_image = np.expand_dims(test_image,axis=0)\n",
        "     result = model.predict(test_image)\n",
        "     training_set.class_indices\n",
        "     print(result)\n",
        "     \n",
        "     x=0\n",
        "     c=0\n",
        "     i=0\n",
        "\n",
        "     while (i<18):\n",
        "       if result[0][i]>=x:\n",
        "         x=result[0][i]\n",
        "         c=i\n",
        "        \n",
        "       i=i+1\n",
        "     if (x==0 and c>=18) :\n",
        "         c=18\n",
        "     if c == 0:\n",
        "       prediction = 'Đây là: Binh'\n",
        "       prediction1 = 'Tương lai sẽ là một kỹ sư giỏi'\n",
        "     elif c == 1:\n",
        "       prediction = 'Đây là: Chi'\n",
        "       prediction1 = 'Tương lai sẽ có một vợ hai con'\n",
        "     elif c == 2:\n",
        "       prediction1 = 'Đây là: Chuong'\n",
        "       prediction1 = 'Tương lai sẽ rất thành công '\n",
        "     elif c == 3:\n",
        "       prediction = 'Đây là: Dong'\n",
        "       prediction1 = 'Tương lai sẽ là một nhà tỷ phú'\n",
        "     elif c == 4:\n",
        "       prediction = 'Đây là: DuyThanh'\n",
        "       prediction1 = 'Tương lai sẽ làm chủ tịch'\n",
        "     elif c == 5:\n",
        "       prediction ='Đây là: Hieu'\n",
        "       prediction1 = 'Tương lai sẽ là một daonh nhan'\n",
        "     elif c == 6:\n",
        "       prediction = 'Đây là: MinhPhi'\n",
        "       prediction1 = 'Tương lai sẽ có một cuộc sống nhiều người mơ ước'\n",
        "     elif c == 7:\n",
        "       prediction = 'Đây là: Nam'\n",
        "       prediction1 = 'Tương lai sẽ có một căn biệt thự'\n",
        "     elif c == 8:\n",
        "       prediction = 'Đây là: NhatHuy'\n",
        "       prediction1 = 'Tương lai sẽ có siêu xe'\n",
        "     elif c==9:\n",
        "       prediction ='Đây là: Phong'\n",
        "       prediction1 = 'Tương lai sẽ có máy bay riêng'\n",
        "     elif c==10:\n",
        "       prediction ='Đây là: QuocHuy'\n",
        "       prediction1 = 'Tương lai sẽ là nhà lãnh đạo xuất chúng'\n",
        "     elif c==11:\n",
        "        prediction ='Đây là: TanPhi'\n",
        "        prediction1 = 'Tương lai sẽ có nha to, xe sang'\n",
        "     elif c==12:\n",
        "        prediction ='Đây là: Thang'\n",
        "        prediction1 = 'Tương lai sẽ một người chông tốt'\n",
        "     elif c==13:\n",
        "        prediction ='Đây là: Tien'\n",
        "        prediction1 = 'Tương lai sẽ đặt giải nobel'\n",
        "     elif c==14:\n",
        "        prediction ='Đây là: Tri'\n",
        "        prediction1 = 'Tương lai sẽ là người có nhiều tiền'\n",
        "     elif c==15:\n",
        "        prediction ='Đây là: Tu'\n",
        "        prediction1 = 'Tương lai sẽ một lực sĩ'\n",
        "     elif c==16:\n",
        "        prediction ='Đây là: Tuan'\n",
        "        prediction1 = 'Tương lai sẽ có nhiều người yêu'\n",
        "     elif c==17:\n",
        "        prediction ='Đây là: Tung'\n",
        "        prediction1 = 'Tương lai sẽ là chủ của Grab'\n",
        "   \n",
        "     print(prediction)\n",
        "     print(prediction1)\n",
        "   except:\n",
        "      print('Tên của hình ảnh không tồn tại '  )\n"
      ],
      "metadata": {
        "colab": {
          "base_uri": "https://localhost:8080/",
          "height": 708
        },
        "id": "87ZYwjZcQNIv",
        "outputId": "a43963c6-5845-43fc-e0e1-d56e945ca7c0"
      },
      "execution_count": null,
      "outputs": [
        {
          "name": "stdout",
          "output_type": "stream",
          "text": [
            "Chọn image : Anh1\n",
            "1/1 [==============================] - 0s 22ms/step\n",
            "[[0. 0. 0. 0. 0. 0. 0. 0. 0. 0. 0. 1. 0. 0. 0. 0. 0. 0.]]\n",
            "Đây là: TanPhi\n",
            "Tương lai sẽ có nha to, xe sang\n",
            "Chọn image : Anh19\n",
            "1/1 [==============================] - 0s 23ms/step\n",
            "[[0. 0. 0. 0. 0. 0. 0. 0. 0. 0. 1. 0. 0. 0. 0. 0. 0. 0.]]\n",
            "Đây là: QuocHuy\n",
            "Tương lai sẽ là nhà lãnh đạo xuất chúng\n",
            "Chọn image : Anh17\n",
            "1/1 [==============================] - 0s 26ms/step\n",
            "[[0. 0. 0. 0. 0. 0. 0. 0. 0. 0. 0. 0. 0. 1. 0. 0. 0. 0.]]\n",
            "Đây là: Tien\n",
            "Tương lai sẽ đặt giải nobel\n",
            "Chọn image : -\n"
          ]
        },
        {
          "output_type": "display_data",
          "data": {
            "text/plain": [
              "<Figure size 640x480 with 1 Axes>"
            ],
            "image/png": "[encoded data removed]"
          },
          "metadata": {}
        }
      ]
    }
  ]
}