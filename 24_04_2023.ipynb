{
  "nbformat": 4,
  "nbformat_minor": 0,
  "metadata": {
    "colab": {
      "provenance": [],
      "mount_file_id": "1XY9OqXod9wB9KjNiwqkKrJNIv6WbbMjU",
      "authorship_tag": "ABX9TyPYZuCq0ixOEtSN7tVZ7/Ae",
      "include_colab_link": true
    },
    "kernelspec": {
      "name": "python3",
      "display_name": "Python 3"
    },
    "language_info": {
      "name": "python"
    }
  },
  "cells": [
    {
      "cell_type": "markdown",
      "metadata": {
        "id": "view-in-github",
        "colab_type": "text"
      },
      "source": [
        "<a href=\"https://colab.research.google.com/github/TRANQUOCHUY202/AI/blob/main/24_04_2023.ipynb\" target=\"_parent\"><img src=\"https://colab.research.google.com/assets/colab-badge.svg\" alt=\"Open In Colab\"/></a>"
      ]
    },
    {
      "cell_type": "code",
      "execution_count": null,
      "metadata": {
        "colab": {
          "base_uri": "https://localhost:8080/"
        },
        "id": "6DocBrCd5SlN",
        "outputId": "14beb4ee-67ad-4787-ff46-33b716259915"
      },
      "outputs": [
        {
          "output_type": "stream",
          "name": "stdout",
          "text": [
            "Looking in indexes: https://pypi.org/simple, https://us-python.pkg.dev/colab-wheels/public/simple/\n",
            "Collecting youtube-search\n",
            "  Downloading youtube_search-2.1.2-py3-none-any.whl (3.4 kB)\n",
            "Requirement already satisfied: requests in /usr/local/lib/python3.9/dist-packages (from youtube-search) (2.27.1)\n",
            "Requirement already satisfied: idna<4,>=2.5 in /usr/local/lib/python3.9/dist-packages (from requests->youtube-search) (3.4)\n",
            "Requirement already satisfied: urllib3<1.27,>=1.21.1 in /usr/local/lib/python3.9/dist-packages (from requests->youtube-search) (1.26.15)\n",
            "Requirement already satisfied: charset-normalizer~=2.0.0 in /usr/local/lib/python3.9/dist-packages (from requests->youtube-search) (2.0.12)\n",
            "Requirement already satisfied: certifi>=2017.4.17 in /usr/local/lib/python3.9/dist-packages (from requests->youtube-search) (2022.12.7)\n",
            "Installing collected packages: youtube-search\n",
            "Successfully installed youtube-search-2.1.2\n"
          ]
        }
      ],
      "source": [
        "pip install youtube-search"
      ]
    },
    {
      "cell_type": "code",
      "source": [
        "import youtube_search\n",
        "from youtube_search import YoutubeSearch\n",
        "import webbrowser\n",
        "mysong = input('nhap vao ten bai hat:')\n",
        "result = YoutubeSearch (mysong, max_results=10).to_dict()\n",
        "print(result)\n",
        "print(result[0]['url_suffix'])\n",
        "url ='https://www.youtube.com/'+result[0]['url_suffix']\n",
        "print(url)\n",
        "webbrowser.open(url)"
      ],
      "metadata": {
        "colab": {
          "base_uri": "https://localhost:8080/"
        },
        "id": "Gi6ZJT5V5cYQ",
        "outputId": "156a0ae6-969d-4f83-9a5b-49cdfcffe2fc"
      },
      "execution_count": null,
      "outputs": [
        {
          "output_type": "stream",
          "name": "stdout",
          "text": [
            "nhap vao ten bai hat:CHAYJ NGAY DDI\n",
            "[{'id': '32sYGCOYJUM', 'thumbnails': ['https://i.ytimg.com/vi/32sYGCOYJUM/hq720.jpg?sqp=-oaymwEjCOgCEMoBSFryq4qpAxUIARUAAAAAGAElAADIQj0AgKJDeAE=&rs=AOn4CLCWjcTm6e5xSNSRsHprzG45s3szBg', 'https://i.ytimg.com/vi/32sYGCOYJUM/hq720.jpg?sqp=-oaymwEXCNAFEJQDSFryq4qpAwkIARUAAIhCGAE=&rs=AOn4CLAZDHzOarWkyn77G8TOzYH76A3U_g'], 'title': 'CHẠY NGAY ĐI | RUN NOW | SƠN TÙNG M-TP | Official Music Video', 'long_desc': None, 'channel': 'Sơn Tùng M-TP Official', 'duration': '4:34', 'views': '觀看次數：153,622,927次', 'publish_time': '4 年前', 'url_suffix': '/watch?v=32sYGCOYJUM&pp=ygUOQ0hBWUogTkdBWSBEREk%3D'}, {'id': '-vtBgNxMyZI', 'thumbnails': ['https://i.ytimg.com/vi/-vtBgNxMyZI/hq720.jpg?sqp=-oaymwEjCOgCEMoBSFryq4qpAxUIARUAAAAAGAElAADIQj0AgKJDeAE=&rs=AOn4CLAo3uFusrUkp0hQNaLNzm22kQhK-w', 'https://i.ytimg.com/vi/-vtBgNxMyZI/hq720.jpg?sqp=-oaymwEXCNAFEJQDSFryq4qpAwkIARUAAIhCGAE=&rs=AOn4CLCHNUJA3yWIENtgUu6lNZxWh1HL5g'], 'title': 'CHẠY NGAY ĐI (ONIONN REMIX)| RUN NOW (ONIONN REMIX) | SƠN TÙNG M-TP | Official Music Video', 'long_desc': None, 'channel': 'Sơn Tùng M-TP Official', 'duration': '5:17', 'views': '觀看次數：33,945,154次', 'publish_time': '4 年前', 'url_suffix': '/watch?v=-vtBgNxMyZI&pp=ygUOQ0hBWUogTkdBWSBEREk%3D'}, {'id': 'ELXKUpZPr9U', 'thumbnails': ['https://i.ytimg.com/vi/ELXKUpZPr9U/hq720.jpg?sqp=-oaymwEjCOgCEMoBSFryq4qpAxUIARUAAAAAGAElAADIQj0AgKJDeAE=&rs=AOn4CLDdGFHFNXz5yf4iwxHA1Jm4-ZPkew', 'https://i.ytimg.com/vi/ELXKUpZPr9U/hq720.jpg?sqp=-oaymwEXCNAFEJQDSFryq4qpAwkIARUAAIhCGAE=&rs=AOn4CLBBGcEfuFNfZhPGqunaOZ50cKVdyA'], 'title': 'Chạy ngay đi - (sped up)', 'long_desc': None, 'channel': 'Zach', 'duration': '2:43', 'views': '觀看次數：146,630次', 'publish_time': '10 個月前', 'url_suffix': '/watch?v=ELXKUpZPr9U&pp=ygUOQ0hBWUogTkdBWSBEREk%3D'}, {'id': 'TY82PxEqYH0', 'thumbnails': ['https://i.ytimg.com/vi/TY82PxEqYH0/hq720.jpg?sqp=-oaymwE9COgCEMoBSFryq4qpAy8IARUAAAAAGAElAADIQj0AgKJDeAHwAQH4AfYJgALQBYoCDAgAEAEYJSAxKH8wDw==&rs=AOn4CLCq0yWqq4ff8JREX3MJ8w46n2IH1Q', 'https://i.ytimg.com/vi/TY82PxEqYH0/hq720.jpg?sqp=-oaymwExCNAFEJQDSFryq4qpAyMIARUAAIhCGAHwAQH4AfYJgALQBYoCDAgAEAEYJSAxKH8wDw==&rs=AOn4CLDAYcK1MSBaDWTOcqR1ugWMPLVgwA'], 'title': 'CHẠY NGAY ĐI || SOLV REMIX ( HOT TIK TOK )', 'long_desc': None, 'channel': 'KA-13', 'duration': '4:09', 'views': '觀看次數：7,277次', 'publish_time': '13 天前', 'url_suffix': '/watch?v=TY82PxEqYH0&pp=ygUOQ0hBWUogTkdBWSBEREk%3D'}, {'id': 'xGtfLqPxFjM', 'thumbnails': ['https://i.ytimg.com/vi/xGtfLqPxFjM/hq720.jpg?sqp=-oaymwEjCOgCEMoBSFryq4qpAxUIARUAAAAAGAElAADIQj0AgKJDeAE=&rs=AOn4CLBmKOVXxot7NFFRnrbioGtFPVsNeQ', 'https://i.ytimg.com/vi/xGtfLqPxFjM/hq720.jpg?sqp=-oaymwEXCNAFEJQDSFryq4qpAwkIARUAAIhCGAE=&rs=AOn4CLDPVPBc2-nGMiy-sIYhsIqWhHs1mg'], 'title': 'CHẠY NGAY ĐI - TRUNG RUỒI, MINH TÍT, THƯƠNG CIN - MV PARODY | PHIM CA NHẠC', 'long_desc': None, 'channel': 'Trung Ruồi Official ', 'duration': '9:58', 'views': '觀看次數：79,855,916次', 'publish_time': '4 年前', 'url_suffix': '/watch?v=xGtfLqPxFjM&pp=ygUOQ0hBWUogTkdBWSBEREk%3D'}, {'id': '4Z5G-81SJa4', 'thumbnails': ['https://i.ytimg.com/vi/4Z5G-81SJa4/hq720.jpg?sqp=-oaymwEjCOgCEMoBSFryq4qpAxUIARUAAAAAGAElAADIQj0AgKJDeAE=&rs=AOn4CLDT6EoCVhMS9bRUFAoVlemxSO4QIw', 'https://i.ytimg.com/vi/4Z5G-81SJa4/hq720.jpg?sqp=-oaymwEXCNAFEJQDSFryq4qpAwkIARUAAIhCGAE=&rs=AOn4CLD3CD-UFvpUXMw4HxgZG66FyyAJ_w'], 'title': '《和訳》𝙏𝙞𝙠 𝙏𝙤𝙠で流行ってる曲 |  Chạy Ngay Đi (Onionn Remix ) - Sơn Tùng M-TP', 'long_desc': None, 'channel': 'Bad Mood', 'duration': '2:45', 'views': '觀看次數：427,527次', 'publish_time': '10 個月前', 'url_suffix': '/watch?v=4Z5G-81SJa4&pp=ygUOQ0hBWUogTkdBWSBEREk%3D'}, {'id': 'knW7-x7Y7RE', 'thumbnails': ['https://i.ytimg.com/vi/knW7-x7Y7RE/hq720.jpg?sqp=-oaymwEjCOgCEMoBSFryq4qpAxUIARUAAAAAGAElAADIQj0AgKJDeAE=&rs=AOn4CLCJNTG3j80PndCirit6C4UU1utJEQ', 'https://i.ytimg.com/vi/knW7-x7Y7RE/hq720.jpg?sqp=-oaymwEXCNAFEJQDSFryq4qpAwkIARUAAIhCGAE=&rs=AOn4CLAC5BmtquQ3CbPTUUhrV5wG00weqQ'], 'title': 'SƠN TÙNG M-TP | HÃY TRAO CHO ANH ft. Snoop Dogg | Official MV', 'long_desc': None, 'channel': 'Sơn Tùng M-TP Official', 'duration': '4:23', 'views': '觀看次數：266,944,307次', 'publish_time': '3 年前', 'url_suffix': '/watch?v=knW7-x7Y7RE&pp=ygUOQ0hBWUogTkdBWSBEREk%3D'}, {'id': 'mT4arhSPIDU', 'thumbnails': ['https://i.ytimg.com/vi/mT4arhSPIDU/hq720.jpg?sqp=-oaymwEjCOgCEMoBSFryq4qpAxUIARUAAAAAGAElAADIQj0AgKJDeAE=&rs=AOn4CLDw1sgS30v2DXefp0bjwwKf07wocQ', 'https://i.ytimg.com/vi/mT4arhSPIDU/hq720.jpg?sqp=-oaymwEXCNAFEJQDSFryq4qpAwkIARUAAIhCGAE=&rs=AOn4CLDol7K9B7iiMqItzmi7KtI9ytzGqQ'], 'title': 'CHẠY NGAY ĐI | SƠN TÙNG M-TP | TIGER REMIX STAGE VERSION | HỒ CHÍ MINH 31.12.2018', 'long_desc': None, 'channel': 'Sơn Tùng M-TP Official', 'duration': '6:50', 'views': '觀看次數：4,681,284次', 'publish_time': '4 年前', 'url_suffix': '/watch?v=mT4arhSPIDU&pp=ygUOQ0hBWUogTkdBWSBEREk%3D'}, {'id': 'IZZoJLTCqhs', 'thumbnails': ['https://i.ytimg.com/vi/IZZoJLTCqhs/hq720.jpg?sqp=-oaymwE9COgCEMoBSFryq4qpAy8IARUAAAAAGAElAADIQj0AgKJDeAHwAQH4Af4JgALQBYoCDAgAEAEYXyBYKGUwDw==&rs=AOn4CLAsBzkUHBCmcfFBSopyvKpWJrDNsg', 'https://i.ytimg.com/vi/IZZoJLTCqhs/hq720.jpg?sqp=-oaymwExCNAFEJQDSFryq4qpAyMIARUAAIhCGAHwAQH4Af4JgALQBYoCDAgAEAEYXyBYKGUwDw==&rs=AOn4CLDV4fBTujg0JwrrrH75rYD_I7t6eQ'], 'title': 'Chạy ngay đi [Sơn Tùng M-TP] Speedup', 'long_desc': None, 'channel': 'UwU', 'duration': '2:38', 'views': '觀看次數：114次', 'publish_time': '2 天前', 'url_suffix': '/watch?v=IZZoJLTCqhs&pp=ygUOQ0hBWUogTkdBWSBEREk%3D'}, {'id': 'x4D1jt0aThg', 'thumbnails': ['https://i.ytimg.com/vi/x4D1jt0aThg/hq720.jpg?sqp=-oaymwEjCOgCEMoBSFryq4qpAxUIARUAAAAAGAElAADIQj0AgKJDeAE=&rs=AOn4CLDYtjh0kuJLkdUFsDf3Z6vZBc-Bdg', 'https://i.ytimg.com/vi/x4D1jt0aThg/hq720.jpg?sqp=-oaymwEXCNAFEJQDSFryq4qpAwkIARUAAIhCGAE=&rs=AOn4CLAO2rLKgN_tGqy6HMpboYJYT7-40A'], 'title': 'Son Tung M-TP | Stage Performance at TPBank Concert', 'long_desc': None, 'channel': 'Sơn Tùng M-TP Official', 'duration': '21:06', 'views': '觀看次數：5,501,196次', 'publish_time': '2 年前', 'url_suffix': '/watch?v=x4D1jt0aThg&pp=ygUOQ0hBWUogTkdBWSBEREk%3D'}]\n",
            "/watch?v=32sYGCOYJUM&pp=ygUOQ0hBWUogTkdBWSBEREk%3D\n",
            "https://www.youtube.com//watch?v=32sYGCOYJUM&pp=ygUOQ0hBWUogTkdBWSBEREk%3D\n"
          ]
        },
        {
          "output_type": "execute_result",
          "data": {
            "text/plain": [
              "False"
            ]
          },
          "metadata": {},
          "execution_count": 10
        }
      ]
    },
    {
      "cell_type": "code",
      "source": [
        "from openpyxl import Workbook\n",
        "from youtube_search import YoutubeSearch\n",
        "import webbrowser\n",
        "data = Workbook()\n",
        "sheet = data.active\n",
        "\n",
        "\n",
        "mysong = input('xin moi chon bai hat:')\n",
        "result = YoutubeSearch (mysong, max_results=10).to_dict()\n",
        "for i in range(10):\n",
        "    print(result[i]['title'])\n",
        "    print(result[i]['url_suffix'])\n",
        "    url = 'https://www.youtube.com/'+result[0]['url_suffix']\n",
        "    print(url)\n",
        "    sheet['A'+str(i+1)] = i+1\n",
        "    sheet['B'+str(i+1)]= result[i]['title']\n",
        "    sheet['C'+str(i+1)]= result[i]['url_suffix']\n",
        "    sheet['D'+str(i+1)]= url\n",
        "    webbrowser.open(url)\n",
        "data.save('nhac.xlsx')"
      ],
      "metadata": {
        "colab": {
          "base_uri": "https://localhost:8080/"
        },
        "id": "yefudgTh8Q69",
        "outputId": "5086adb4-5d25-48d7-e8ad-74f3b8ec0331"
      },
      "execution_count": null,
      "outputs": [
        {
          "output_type": "stream",
          "name": "stdout",
          "text": [
            "xin moi chon bai hat:chay ngay di\n",
            "CHẠY NGAY ĐI | RUN NOW | SƠN TÙNG M-TP | Official Music Video\n",
            "/watch?v=32sYGCOYJUM&pp=ygUMY2hheSBuZ2F5IGRp\n",
            "https://www.youtube.com//watch?v=32sYGCOYJUM&pp=ygUMY2hheSBuZ2F5IGRp\n",
            "CHẠY NGAY ĐI (ONIONN REMIX)| RUN NOW (ONIONN REMIX) | SƠN TÙNG M-TP | Official Music Video\n",
            "/watch?v=-vtBgNxMyZI&pp=ygUMY2hheSBuZ2F5IGRp\n",
            "https://www.youtube.com//watch?v=32sYGCOYJUM&pp=ygUMY2hheSBuZ2F5IGRp\n",
            "Chạy ngay đi - (sped up)\n",
            "/watch?v=ELXKUpZPr9U&pp=ygUMY2hheSBuZ2F5IGRp\n",
            "https://www.youtube.com//watch?v=32sYGCOYJUM&pp=ygUMY2hheSBuZ2F5IGRp\n",
            "CHẠY NGAY ĐI || SOLV REMIX ( HOT TIK TOK )\n",
            "/watch?v=TY82PxEqYH0&pp=ygUMY2hheSBuZ2F5IGRp\n",
            "https://www.youtube.com//watch?v=32sYGCOYJUM&pp=ygUMY2hheSBuZ2F5IGRp\n",
            "《和訳》𝙏𝙞𝙠 𝙏𝙤𝙠で流行ってる曲 |  Chạy Ngay Đi (Onionn Remix ) - Sơn Tùng M-TP\n",
            "/watch?v=4Z5G-81SJa4&pp=ygUMY2hheSBuZ2F5IGRp\n",
            "https://www.youtube.com//watch?v=32sYGCOYJUM&pp=ygUMY2hheSBuZ2F5IGRp\n",
            "CHẠY NGAY ĐI - TRUNG RUỒI, MINH TÍT, THƯƠNG CIN - MV PARODY | PHIM CA NHẠC\n",
            "/watch?v=xGtfLqPxFjM&pp=ygUMY2hheSBuZ2F5IGRp\n",
            "https://www.youtube.com//watch?v=32sYGCOYJUM&pp=ygUMY2hheSBuZ2F5IGRp\n",
            "Chang ngay di  (speed up) 30 mins\n",
            "/watch?v=HTpElUKizfA&pp=ygUMY2hheSBuZ2F5IGRp\n",
            "https://www.youtube.com//watch?v=32sYGCOYJUM&pp=ygUMY2hheSBuZ2F5IGRp\n",
            "chay ngay di (onionn remix) - sped up\n",
            "/watch?v=V7EqtaI2jHk&pp=ygUMY2hheSBuZ2F5IGRp\n",
            "https://www.youtube.com//watch?v=32sYGCOYJUM&pp=ygUMY2hheSBuZ2F5IGRp\n",
            "Lazada Birthday Supershow | Chạy Ngay Đi | Sơn Tùng M-TP | Ver2\n",
            "/watch?v=ht0g6zW-90w&pp=ygUMY2hheSBuZ2F5IGRp\n",
            "https://www.youtube.com//watch?v=32sYGCOYJUM&pp=ygUMY2hheSBuZ2F5IGRp\n",
            "CHẠY NGAY ĐI | SƠN TÙNG M-TP | TIGER REMIX STAGE VERSION | HỒ CHÍ MINH 31.12.2018\n",
            "/watch?v=mT4arhSPIDU&pp=ygUMY2hheSBuZ2F5IGRp\n",
            "https://www.youtube.com//watch?v=32sYGCOYJUM&pp=ygUMY2hheSBuZ2F5IGRp\n"
          ]
        }
      ]
    },
    {
      "cell_type": "markdown",
      "source": [
        "# Mục mới"
      ],
      "metadata": {
        "id": "mNoBIDmNByoJ"
      }
    },
    {
      "cell_type": "code",
      "source": [
        "!pip install SpeechRecognition pydub\n",
        "\n"
      ],
      "metadata": {
        "colab": {
          "base_uri": "https://localhost:8080/"
        },
        "id": "3C0tWu_vB2IK",
        "outputId": "5afb18c9-3d27-4203-df14-32508a2236ed"
      },
      "execution_count": null,
      "outputs": [
        {
          "output_type": "stream",
          "name": "stdout",
          "text": [
            "Looking in indexes: https://pypi.org/simple, https://us-python.pkg.dev/colab-wheels/public/simple/\n",
            "Requirement already satisfied: SpeechRecognition in /usr/local/lib/python3.9/dist-packages (3.10.0)\n",
            "Requirement already satisfied: pydub in /usr/local/lib/python3.9/dist-packages (0.25.1)\n",
            "Requirement already satisfied: requests>=2.26.0 in /usr/local/lib/python3.9/dist-packages (from SpeechRecognition) (2.27.1)\n",
            "Requirement already satisfied: certifi>=2017.4.17 in /usr/local/lib/python3.9/dist-packages (from requests>=2.26.0->SpeechRecognition) (2022.12.7)\n",
            "Requirement already satisfied: charset-normalizer~=2.0.0 in /usr/local/lib/python3.9/dist-packages (from requests>=2.26.0->SpeechRecognition) (2.0.12)\n",
            "Requirement already satisfied: urllib3<1.27,>=1.21.1 in /usr/local/lib/python3.9/dist-packages (from requests>=2.26.0->SpeechRecognition) (1.26.15)\n",
            "Requirement already satisfied: idna<4,>=2.5 in /usr/local/lib/python3.9/dist-packages (from requests>=2.26.0->SpeechRecognition) (3.4)\n"
          ]
        }
      ]
    },
    {
      "cell_type": "code",
      "source": [
        "file = '/content/drive/MyDrive/nhacwav/male.wav'\n",
        "import speech_recognition as sr\n",
        "\n",
        "r = sr.Recognizer()\n",
        "\n",
        "with sr.AudioFile(file) as source:\n",
        "  audio_data=r.record(source)\n",
        "  text = r.recognize_google(audio_data)\n",
        "  print(text)\n"
      ],
      "metadata": {
        "colab": {
          "base_uri": "https://localhost:8080/"
        },
        "id": "8JzOvDKzCVto",
        "outputId": "2dfb5d1e-fbfe-4198-92a7-4d23f5e41ce4"
      },
      "execution_count": null,
      "outputs": [
        {
          "output_type": "stream",
          "name": "stdout",
          "text": [
            "what if somebody decides to break it be careful that you keep adequate coverage but look for places to save money baby it's taking longer to get things squared away than the bankers expected during the wife for once company may win her tax hated retirement income as helpful as our cost on the two naked bone when the title of this type of song is in question there's no dying or waxing or gassing needed maybe personalized leather hard place work on a flat surface and smooth out the simplest kind of separate system uses a single self-contained unit the old shop at it still holds a good mechanic is usually a bad boss both figures would go higher in later years doll houses at set\n"
          ]
        }
      ]
    },
    {
      "cell_type": "code",
      "source": [
        "file = '/content/drive/MyDrive/nhacwav/male.wav'\n",
        "#Xuống dòng ở mỗi khoảng thời gian ta set\n",
        "test = sr.Recognizer()\n",
        "with sr.AudioFile(file) as source:\n",
        "  audio1 = r.record(source, duration=4) #4 giay la dung\n",
        "  audio2 = r.record(source, duration=10)\n",
        "  audio3 = r.record(source, offset=4, duration=10)\n",
        "\n",
        "print(r.recognize_google(audio1))\n",
        "print(r.recognize_google(audio2))\n",
        "print(r.recognize_google(audio3))\n"
      ],
      "metadata": {
        "colab": {
          "base_uri": "https://localhost:8080/"
        },
        "id": "fWrNZ0f6FVxK",
        "outputId": "4886265c-875e-4bd1-f65e-66352f197f9e"
      },
      "execution_count": null,
      "outputs": [
        {
          "output_type": "stream",
          "name": "stdout",
          "text": [
            "what if somebody decides to break it be careful that you keep attic\n",
            "but look for places to save money baby it's taking longer to get things squared away than the bankers expected hiring the Y for one company may win her to\n",
            "Elsa saving Rags are hers latest on the two naked bone into when the title of this type of song is in question there's no dying or waxing\n"
          ]
        }
      ]
    },
    {
      "cell_type": "code",
      "source": [
        "from google.colab import drive\n",
        "drive.mount('/content/drive')\n"
      ],
      "metadata": {
        "colab": {
          "base_uri": "https://localhost:8080/"
        },
        "id": "AwBMNcQqIDwm",
        "outputId": "b240550c-6964-412d-c622-6680a35151bd"
      },
      "execution_count": null,
      "outputs": [
        {
          "output_type": "stream",
          "name": "stdout",
          "text": [
            "Drive already mounted at /content/drive; to attempt to forcibly remount, call drive.mount(\"/content/drive\", force_remount=True).\n"
          ]
        }
      ]
    },
    {
      "cell_type": "code",
      "source": [
        "import speech_recognition as sr\n",
        "\n",
        "r = sr.Recognizer()\n",
        "with sr.AudioFile('/content/drive/MyDrive/nhacwav/male.wav') as source:\n",
        "  audio = r.record(source)\n",
        "r.recognize_google(audio, language = 'fr_GB')\n"
      ],
      "metadata": {
        "colab": {
          "base_uri": "https://localhost:8080/",
          "height": 36
        },
        "id": "C49XINWuFyCV",
        "outputId": "3634c486-51c0-4b67-b30b-d7373a851360"
      },
      "execution_count": null,
      "outputs": [
        {
          "output_type": "execute_result",
          "data": {
            "text/plain": [
              "'mairie de Brech'"
            ],
            "application/vnd.google.colaboratory.intrinsic+json": {
              "type": "string"
            }
          },
          "metadata": {},
          "execution_count": 48
        }
      ]
    },
    {
      "cell_type": "code",
      "source": [
        "pip install gTTS\n"
      ],
      "metadata": {
        "colab": {
          "base_uri": "https://localhost:8080/"
        },
        "id": "cDUqoO--LQ4E",
        "outputId": "2c7224f4-5147-437e-8b95-d061cdcefec0"
      },
      "execution_count": null,
      "outputs": [
        {
          "output_type": "stream",
          "name": "stdout",
          "text": [
            "Looking in indexes: https://pypi.org/simple, https://us-python.pkg.dev/colab-wheels/public/simple/\n",
            "Collecting gTTS\n",
            "  Downloading gTTS-2.3.1-py3-none-any.whl (28 kB)\n",
            "Requirement already satisfied: click<8.2,>=7.1 in /usr/local/lib/python3.9/dist-packages (from gTTS) (8.1.3)\n",
            "Requirement already satisfied: requests<3,>=2.27 in /usr/local/lib/python3.9/dist-packages (from gTTS) (2.27.1)\n",
            "Requirement already satisfied: idna<4,>=2.5 in /usr/local/lib/python3.9/dist-packages (from requests<3,>=2.27->gTTS) (3.4)\n",
            "Requirement already satisfied: charset-normalizer~=2.0.0 in /usr/local/lib/python3.9/dist-packages (from requests<3,>=2.27->gTTS) (2.0.12)\n",
            "Requirement already satisfied: urllib3<1.27,>=1.21.1 in /usr/local/lib/python3.9/dist-packages (from requests<3,>=2.27->gTTS) (1.26.15)\n",
            "Requirement already satisfied: certifi>=2017.4.17 in /usr/local/lib/python3.9/dist-packages (from requests<3,>=2.27->gTTS) (2022.12.7)\n",
            "Installing collected packages: gTTS\n",
            "Successfully installed gTTS-2.3.1\n"
          ]
        }
      ]
    },
    {
      "cell_type": "code",
      "source": [
        "pip install playsound\n"
      ],
      "metadata": {
        "colab": {
          "base_uri": "https://localhost:8080/"
        },
        "id": "9BU5N-gLMFjY",
        "outputId": "72fe5be8-db34-4957-d25d-0d80713fbdb2"
      },
      "execution_count": null,
      "outputs": [
        {
          "output_type": "stream",
          "name": "stdout",
          "text": [
            "Looking in indexes: https://pypi.org/simple, https://us-python.pkg.dev/colab-wheels/public/simple/\n",
            "Collecting playsound\n",
            "  Downloading playsound-1.3.0.tar.gz (7.7 kB)\n",
            "  Preparing metadata (setup.py) ... \u001b[?25l\u001b[?25hdone\n",
            "Building wheels for collected packages: playsound\n",
            "  Building wheel for playsound (setup.py) ... \u001b[?25l\u001b[?25hdone\n",
            "  Created wheel for playsound: filename=playsound-1.3.0-py3-none-any.whl size=7035 sha256=f678973a93eeb9f288f86ce83f4e8423b399a71446b072c5ccf039d2fd418fed\n",
            "  Stored in directory: /root/.cache/pip/wheels/ba/39/54/c8f7ff9a88a644d3c58b4dec802d90b79a2e0fb2a6b884bf82\n",
            "Successfully built playsound\n",
            "Installing collected packages: playsound\n",
            "Successfully installed playsound-1.3.0\n"
          ]
        }
      ]
    },
    {
      "cell_type": "code",
      "source": [
        "from gtts import gTTS\n",
        "import os\n",
        "from playsound import playsound\n",
        "import playsound\n",
        "A = 'anh yêu em'\n",
        "speak = gTTS(text=A, lang='vi', slow=False)\n",
        "speak.save('/content/drive/MyDrive/nhacwav/text1.mp3')\n",
        "\n",
        "print('text')"
      ],
      "metadata": {
        "colab": {
          "base_uri": "https://localhost:8080/"
        },
        "id": "lAVwc11OJ_nt",
        "outputId": "9c12d600-b71c-43d8-ded9-126168382492"
      },
      "execution_count": null,
      "outputs": [
        {
          "output_type": "stream",
          "name": "stdout",
          "text": [
            "text\n"
          ]
        }
      ]
    },
    {
      "cell_type": "code",
      "source": [
        "from gtts import gTTS\n",
        "import os\n",
        "A = 'Chỉ cần ngồi stream có người coi\\\n",
        "    Vẫn nói cười thôi\\\n",
        "    Miễn sao sinh niềm vui vốn lẫn lời\\\n",
        "    Mặc kệ xung quanh nhiều dèm pha\\\n",
        "    Chẳng nhiều bằng những điều mà ta đã hóa ra\\\n",
        "    Bộ tộc ngày đêm vẫn cứ là \"đúng đời\"\\\n",
        "    Chỉ mong dòng thời gian sẽ chậm chậm thôi\\\n",
        "    Để xem lại đường đi đã rất dài\\\n",
        "    Đừng tự hỏi sẽ stream đến bao giờ\\\n",
        "    Tương lai đâu có ai ngờ\\\n",
        "    Và đừng lo vì một mai sau chúng ta sẽ cùng già'\n",
        "    \n",
        "speak = gTTS(text=A, lang='vi', slow=False)\n",
        "speak.save('VD.mp3')\n",
        "print('text')"
      ],
      "metadata": {
        "colab": {
          "base_uri": "https://localhost:8080/"
        },
        "id": "LU-AMoJqQPi6",
        "outputId": "47f9d99b-e418-46df-9fe9-89e8fe20c2e7"
      },
      "execution_count": null,
      "outputs": [
        {
          "output_type": "stream",
          "name": "stdout",
          "text": [
            "text\n"
          ]
        }
      ]
    },
    {
      "cell_type": "code",
      "source": [
        "pip install googletrans==3.1.0a0"
      ],
      "metadata": {
        "colab": {
          "base_uri": "https://localhost:8080/",
          "height": 956
        },
        "id": "quezIPxMPMzb",
        "outputId": "2e5f2702-2d8f-4a03-fe44-eaa30873ff95"
      },
      "execution_count": null,
      "outputs": [
        {
          "output_type": "stream",
          "name": "stdout",
          "text": [
            "Looking in indexes: https://pypi.org/simple, https://us-python.pkg.dev/colab-wheels/public/simple/\n",
            "Collecting googletrans==3.1.0a0\n",
            "  Downloading googletrans-3.1.0a0.tar.gz (19 kB)\n",
            "  Preparing metadata (setup.py) ... \u001b[?25l\u001b[?25hdone\n",
            "Collecting httpx==0.13.3\n",
            "  Downloading httpx-0.13.3-py3-none-any.whl (55 kB)\n",
            "\u001b[2K     \u001b[90m━━━━━━━━━━━━━━━━━━━━━━━━━━━━━━━━━━━━━━━━\u001b[0m \u001b[32m55.1/55.1 kB\u001b[0m \u001b[31m3.0 MB/s\u001b[0m eta \u001b[36m0:00:00\u001b[0m\n",
            "\u001b[?25hCollecting chardet==3.*\n",
            "  Downloading chardet-3.0.4-py2.py3-none-any.whl (133 kB)\n",
            "\u001b[2K     \u001b[90m━━━━━━━━━━━━━━━━━━━━━━━━━━━━━━━━━━━━━━━\u001b[0m \u001b[32m133.4/133.4 kB\u001b[0m \u001b[31m7.0 MB/s\u001b[0m eta \u001b[36m0:00:00\u001b[0m\n",
            "\u001b[?25hCollecting idna==2.*\n",
            "  Downloading idna-2.10-py2.py3-none-any.whl (58 kB)\n",
            "\u001b[2K     \u001b[90m━━━━━━━━━━━━━━━━━━━━━━━━━━━━━━━━━━━━━━━━\u001b[0m \u001b[32m58.8/58.8 kB\u001b[0m \u001b[31m6.7 MB/s\u001b[0m eta \u001b[36m0:00:00\u001b[0m\n",
            "\u001b[?25hCollecting rfc3986<2,>=1.3\n",
            "  Downloading rfc3986-1.5.0-py2.py3-none-any.whl (31 kB)\n",
            "Collecting hstspreload\n",
            "  Downloading hstspreload-2023.1.1-py3-none-any.whl (1.5 MB)\n",
            "\u001b[2K     \u001b[90m━━━━━━━━━━━━━━━━━━━━━━━━━━━━━━━━━━━━━━━━\u001b[0m \u001b[32m1.5/1.5 MB\u001b[0m \u001b[31m29.5 MB/s\u001b[0m eta \u001b[36m0:00:00\u001b[0m\n",
            "\u001b[?25hRequirement already satisfied: sniffio in /usr/local/lib/python3.9/dist-packages (from httpx==0.13.3->googletrans==3.1.0a0) (1.3.0)\n",
            "Requirement already satisfied: certifi in /usr/local/lib/python3.9/dist-packages (from httpx==0.13.3->googletrans==3.1.0a0) (2022.12.7)\n",
            "Collecting httpcore==0.9.*\n",
            "  Downloading httpcore-0.9.1-py3-none-any.whl (42 kB)\n",
            "\u001b[2K     \u001b[90m━━━━━━━━━━━━━━━━━━━━━━━━━━━━━━━━━━━━━━━━\u001b[0m \u001b[32m42.6/42.6 kB\u001b[0m \u001b[31m4.1 MB/s\u001b[0m eta \u001b[36m0:00:00\u001b[0m\n",
            "\u001b[?25hCollecting h11<0.10,>=0.8\n",
            "  Downloading h11-0.9.0-py2.py3-none-any.whl (53 kB)\n",
            "\u001b[2K     \u001b[90m━━━━━━━━━━━━━━━━━━━━━━━━━━━━━━━━━━━━━━━━\u001b[0m \u001b[32m53.6/53.6 kB\u001b[0m \u001b[31m5.7 MB/s\u001b[0m eta \u001b[36m0:00:00\u001b[0m\n",
            "\u001b[?25hCollecting h2==3.*\n",
            "  Downloading h2-3.2.0-py2.py3-none-any.whl (65 kB)\n",
            "\u001b[2K     \u001b[90m━━━━━━━━━━━━━━━━━━━━━━━━━━━━━━━━━━━━━━━━\u001b[0m \u001b[32m65.0/65.0 kB\u001b[0m \u001b[31m6.9 MB/s\u001b[0m eta \u001b[36m0:00:00\u001b[0m\n",
            "\u001b[?25hCollecting hyperframe<6,>=5.2.0\n",
            "  Downloading hyperframe-5.2.0-py2.py3-none-any.whl (12 kB)\n",
            "Collecting hpack<4,>=3.0\n",
            "  Downloading hpack-3.0.0-py2.py3-none-any.whl (38 kB)\n",
            "Building wheels for collected packages: googletrans\n",
            "  Building wheel for googletrans (setup.py) ... \u001b[?25l\u001b[?25hdone\n",
            "  Created wheel for googletrans: filename=googletrans-3.1.0a0-py3-none-any.whl size=16368 sha256=94aa50f0d2651a7f47a9447a8d6e24e99f20e71bbbb00c71cab7caf3eb14627b\n",
            "  Stored in directory: /root/.cache/pip/wheels/ae/e1/6c/5137bc3f35aa130deea71575e165cc4f4f0680a88f3d90a636\n",
            "Successfully built googletrans\n",
            "Installing collected packages: rfc3986, hyperframe, hpack, h11, chardet, idna, hstspreload, h2, httpcore, httpx, googletrans\n",
            "  Attempting uninstall: chardet\n",
            "    Found existing installation: chardet 4.0.0\n",
            "    Uninstalling chardet-4.0.0:\n",
            "      Successfully uninstalled chardet-4.0.0\n",
            "  Attempting uninstall: idna\n",
            "    Found existing installation: idna 3.4\n",
            "    Uninstalling idna-3.4:\n",
            "      Successfully uninstalled idna-3.4\n",
            "Successfully installed chardet-3.0.4 googletrans-3.1.0a0 h11-0.9.0 h2-3.2.0 hpack-3.0.0 hstspreload-2023.1.1 httpcore-0.9.1 httpx-0.13.3 hyperframe-5.2.0 idna-2.10 rfc3986-1.5.0\n"
          ]
        },
        {
          "output_type": "display_data",
          "data": {
            "application/vnd.colab-display-data+json": {
              "pip_warning": {
                "packages": [
                  "chardet",
                  "idna"
                ]
              }
            }
          },
          "metadata": {}
        }
      ]
    },
    {
      "cell_type": "code",
      "source": [
        "from googletrans import Translator\n",
        "translator = Translator()\n",
        "translator = translator.translate('Hong be oi', dest='ja')\n",
        "print(translator.text)\n"
      ],
      "metadata": {
        "colab": {
          "base_uri": "https://localhost:8080/"
        },
        "id": "0-uA_BDCSJoA",
        "outputId": "fc045441-92f2-4864-9959-96a1d51f233c"
      },
      "execution_count": null,
      "outputs": [
        {
          "output_type": "stream",
          "name": "stdout",
          "text": [
            "ホンベオイ\n"
          ]
        }
      ]
    },
    {
      "cell_type": "code",
      "source": [
        "from googletrans import Translator\n",
        "\n",
        "# Tạo đối tượng Translator\n",
        "translator = Translator()\n",
        "\n",
        "# Điểm cần dịch\n",
        "text = \"Hello, world!\"\n",
        "\n",
        "# Ngôn ngữ cần dịch đến\n",
        "dest = 'vi'\n",
        "\n",
        "# Dịch từ điểm\n",
        "translated = translator.translate(text, dest)\n",
        "\n",
        "# In kết quả\n",
        "print(translated.text)\n"
      ],
      "metadata": {
        "colab": {
          "base_uri": "https://localhost:8080/"
        },
        "id": "TrRNxEJJUUVv",
        "outputId": "e7716d07-cd7c-470a-c96b-a7f6528af6b3"
      },
      "execution_count": null,
      "outputs": [
        {
          "output_type": "stream",
          "name": "stdout",
          "text": [
            "Chào thế giới!\n"
          ]
        }
      ]
    },
    {
      "cell_type": "code",
      "source": [
        "pip install python_speech_features\n"
      ],
      "metadata": {
        "colab": {
          "base_uri": "https://localhost:8080/"
        },
        "id": "kkN_JNIUc9kR",
        "outputId": "b5915ea9-b472-46ad-9ec4-290a13747691"
      },
      "execution_count": 3,
      "outputs": [
        {
          "output_type": "stream",
          "name": "stdout",
          "text": [
            "Looking in indexes: https://pypi.org/simple, https://us-python.pkg.dev/colab-wheels/public/simple/\n",
            "Collecting python_speech_features\n",
            "  Downloading python_speech_features-0.6.tar.gz (5.6 kB)\n",
            "  Preparing metadata (setup.py) ... \u001b[?25l\u001b[?25hdone\n",
            "Building wheels for collected packages: python_speech_features\n",
            "  Building wheel for python_speech_features (setup.py) ... \u001b[?25l\u001b[?25hdone\n",
            "  Created wheel for python_speech_features: filename=python_speech_features-0.6-py3-none-any.whl size=5886 sha256=92b51dd45bfc07f6fb010c6ae351856136852d1563bfd1dcff2c26b3a49d093e\n",
            "  Stored in directory: /root/.cache/pip/wheels/09/a1/04/08e2688d2562d8f9ff89e77c6ddfbf7268e07dae1a6f22455e\n",
            "Successfully built python_speech_features\n",
            "Installing collected packages: python_speech_features\n",
            "Successfully installed python_speech_features-0.6\n"
          ]
        }
      ]
    },
    {
      "cell_type": "code",
      "source": [
        "import numpy as np\n",
        "import matplotlib.pyplot as plt\n",
        "from scipy.io import wavfile\n",
        "from python_speech_features import mfcc, logfbank\n",
        "\n",
        "\n",
        "frequency_sample, audio_signal= wavfile.read('/content/drive/MyDrive/nhacwav/Tieng-cho-sua-www_nhacchuongvui_com.wav')\n",
        "audio_signal= audio_signal[:1500]\n",
        "feature_mfcc = mfcc(audio_signal, frequency_sample)\n",
        "print('\\nMFCC:\\n Number of windows=', feature_mfcc.shape[0])\n",
        "print('Length of each feature:',feature_mfcc.shape[1])\n",
        "feature_mfcc=feature_mfcc.T\n",
        "plt.matshow(feature_mfcc)\n",
        "plt.title('MFCC')\n",
        "filterbank_feature=logfbank(audio_signal, frequency_sample)\n",
        "print('\\nFilter bank:\\n Number of windows=', filterbank_feature.shape[0])\n",
        "print('Length of each feature:', filterbank_feature.shape[1])\n",
        "filterbank_feature=filterbank_feature.T\n",
        "plt.matshow(filterbank_feature)\n",
        "plt.title('filter bank')\n",
        "plt.show()"
      ],
      "metadata": {
        "colab": {
          "base_uri": "https://localhost:8080/",
          "height": 1000
        },
        "id": "tLwZUVL7Yteq",
        "outputId": "5c0cea99-6306-46d9-e8cc-170a4536bc35"
      },
      "execution_count": 4,
      "outputs": [
        {
          "output_type": "stream",
          "name": "stderr",
          "text": [
            "WARNING:root:frame length (1103) is greater than FFT size (512), frame will be truncated. Increase NFFT to avoid.\n",
            "WARNING:root:frame length (1103) is greater than FFT size (512), frame will be truncated. Increase NFFT to avoid.\n"
          ]
        },
        {
          "output_type": "stream",
          "name": "stdout",
          "text": [
            "\n",
            "MFCC:\n",
            " Number of windows= 2\n",
            "Length of each feature: 13\n",
            "\n",
            "Filter bank:\n",
            " Number of windows= 2\n",
            "Length of each feature: 26\n"
          ]
        },
        {
          "output_type": "display_data",
          "data": {
            "text/plain": [
              "<Figure size 400x1600 with 1 Axes>"
            ],
            "image/png": "[encoded data removed]"
          },
          "metadata": {}
        },
        {
          "output_type": "display_data",
          "data": {
            "text/plain": [
              "<Figure size 400x1600 with 1 Axes>"
            ],
            "image/png": "[encoded data removed]"
          },
          "metadata": {}
        }
      ]
    },
    {
      "cell_type": "code",
      "source": [
        "import numpy as np\n",
        "import matplotlib.pyplot as plt\n",
        "from scipy.io import wavfile\n",
        "from python_speech_features import mfcc\n",
        "\n",
        "# Load audio signal from file\n",
        "sample_rate, audio_signal = wavfile.read('//content/drive/MyDrive/nhacwav/Tieng-chim-hot-buoi-sang-www_tiengdong_com.wav')\n",
        "\n",
        "# Truncate audio signal to first 1500 samples\n",
        "audio_signal = audio_signal[:1500]\n",
        "\n",
        "# Compute MFCC features\n",
        "feature_mfcc = mfcc(audio_signal, sample_rate)\n",
        "\n",
        "# Print number of windows and length of each feature\n",
        "print('\\nMFCC:')\n",
        "print('Number of windows:', feature_mfcc.shape[0])\n",
        "print('Length of each feature:', feature_mfcc.shape[1])\n",
        "\n",
        "# Transpose feature matrix for plotting\n",
        "feature_mfcc = feature_mfcc.T\n",
        "\n",
        "# Plot MFCC features as a matrix\n",
        "plt.matshow(feature_mfcc)\n",
        "plt.title('MFCC')\n",
        "\n",
        "filterbank_feature=logfbank(audio_signal, frequency_sample)\n",
        "print('\\nFilter bank:\\n Number of windows=', filterbank_feature.shape[0])\n",
        "print('Length of each feature:', filterbank_feature.shape[1])\n",
        "filterbank_feature=filterbank_feature.T\n",
        "plt.matshow(filterbank_feature)\n",
        "plt.title('filter bank')\n",
        "plt.show()\n",
        "\n"
      ],
      "metadata": {
        "colab": {
          "base_uri": "https://localhost:8080/",
          "height": 1000
        },
        "id": "_CikQzMgc0jJ",
        "outputId": "6ad15128-4c5c-4da5-edae-523e80d409de"
      },
      "execution_count": 5,
      "outputs": [
        {
          "output_type": "stream",
          "name": "stderr",
          "text": [
            "WARNING:root:frame length (1103) is greater than FFT size (512), frame will be truncated. Increase NFFT to avoid.\n",
            "WARNING:root:frame length (1103) is greater than FFT size (512), frame will be truncated. Increase NFFT to avoid.\n"
          ]
        },
        {
          "output_type": "stream",
          "name": "stdout",
          "text": [
            "\n",
            "MFCC:\n",
            "Number of windows: 2\n",
            "Length of each feature: 13\n",
            "\n",
            "Filter bank:\n",
            " Number of windows= 2\n",
            "Length of each feature: 26\n"
          ]
        },
        {
          "output_type": "display_data",
          "data": {
            "text/plain": [
              "<Figure size 400x1600 with 1 Axes>"
            ],
            "image/png": "[encoded data removed]"
          },
          "metadata": {}
        },
        {
          "output_type": "display_data",
          "data": {
            "text/plain": [
              "<Figure size 400x1600 with 1 Axes>"
            ],
            "image/png": "[encoded data removed]"
          },
          "metadata": {}
        }
      ]
    }
  ]
}