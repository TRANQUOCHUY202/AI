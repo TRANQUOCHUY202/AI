{
  "nbformat": 4,
  "nbformat_minor": 0,
  "metadata": {
    "colab": {
      "provenance": [],
      "mount_file_id": "1ibS97VAjDIxkw9rfbf4G50VpJlxLRFFs",
      "authorship_tag": "ABX9TyNK3AWaB88rmYz7rqQf7tT7",
      "include_colab_link": true
    },
    "kernelspec": {
      "name": "python3",
      "display_name": "Python 3"
    },
    "language_info": {
      "name": "python"
    }
  },
  "cells": [
    {
      "cell_type": "markdown",
      "metadata": {
        "id": "view-in-github",
        "colab_type": "text"
      },
      "source": [
        "<a href=\"https://colab.research.google.com/github/TRANQUOCHUY202/AI/blob/main/nhandang-tien-vn.ipynb\" target=\"_parent\"><img src=\"https://colab.research.google.com/assets/colab-badge.svg\" alt=\"Open In Colab\"/></a>"
      ]
    },
    {
      "cell_type": "code",
      "execution_count": null,
      "metadata": {
        "colab": {
          "base_uri": "https://localhost:8080/"
        },
        "id": "SUWce_Ieq0k-",
        "outputId": "710e7813-6975-414d-b857-1b39bb316ae4"
      },
      "outputs": [
        {
          "output_type": "stream",
          "name": "stdout",
          "text": [
            "Found 1085 images belonging to 6 classes.\n",
            "Found 30 images belonging to 6 classes.\n"
          ]
        },
        {
          "output_type": "execute_result",
          "data": {
            "text/plain": [
              "{'10k': 0, '1k': 1, '200k': 2, '2k': 3, '50k': 4, '5k': 5}"
            ]
          },
          "metadata": {},
          "execution_count": 9
        }
      ],
      "source": [
        "# Import thư viện\n",
        "import tensorflow as tf\n",
        "import numpy as np\n",
        "import pandas as pd\n",
        "import matplotlib.pyplot as plt\n",
        "from keras.preprocessing.image import ImageDataGenerator\n",
        "from keras.utils import to_categorical, load_img, img_to_array\n",
        "\n",
        "\n",
        "#Preprocessing để Training \n",
        "# Load ảnh, chia loại, định lại cỡ ảnh 30x40, rescale ảnh và định dạng ảnh về binary\n",
        "train_datagen = ImageDataGenerator( rescale = 1./255,\n",
        "                                    shear_range = 0.2,\n",
        "                                    zoom_range = 0.2,\n",
        "                                    horizontal_flip = True)\n",
        "\n",
        "test_datagen = ImageDataGenerator( rescale = 1./255,\n",
        "                                    shear_range = 0.2,\n",
        "                                    zoom_range = 0.2,\n",
        "                                    horizontal_flip = True )\n",
        "\n",
        "# Tải các hình ảnh trong thư mục 'Training' và 'Test'\n",
        "training_set = train_datagen.flow_from_directory('/content/drive/MyDrive/BT1/Money/Training', \n",
        "                                                 target_size = (30,40), \n",
        "                                                 batch_size = 32, \n",
        "                                                 class_mode = 'categorical')\n",
        "\n",
        "test_set = test_datagen.flow_from_directory('/content/drive/MyDrive/BT1/Money/Test', \n",
        "                                            target_size = (30,40), \n",
        "                                            batch_size = 32, \n",
        "                                            class_mode = 'categorical')\n",
        "# In ra các chỉ số tương ứng cho các loại hoa trong tập huấn luyện và tập kiểm tra\n",
        "training_set.class_indices\n",
        "test_set.class_indices"
      ]
    },
    {
      "cell_type": "code",
      "source": [
        "from keras.preprocessing.image import ImageDataGenerator\n",
        "from keras.models import Sequential\n",
        "from keras.layers import Dense, Flatten, Dropout, Conv2D, MaxPooling2D, Normalization\n",
        "import keras.backend as K\n",
        "from keras.layers import LeakyReLU\n",
        "from keras.callbacks import EarlyStopping\n",
        "from keras.utils import to_categorical\n",
        "from keras.optimizers import Adam\n",
        "\n",
        "# Tạo model\n",
        "model = Sequential()\n",
        "\n",
        "#Thêm lớp chuyển đổi\n",
        "model.add(tf.keras.layers.Conv2D(32,(3,3), activation='relu', input_shape=[30,40,3],padding='same')) \n",
        "#Pooling\n",
        "model.add(MaxPooling2D(pool_size=(2,2) , padding = 'same'))\n",
        "\n",
        "#Tích chập lớp thứ 2\n",
        "model.add(Conv2D(64,(3,3), activation = 'relu',padding='same'))\n",
        "model.add(Dropout( 0.1))\n",
        "model.add(MaxPooling2D(pool_size=(2,2) , padding = 'same'))\n",
        "#Tích chập lớp thứ 3\n",
        "model.add(Conv2D(128,(3,3), activation = 'relu',padding='same'))\n",
        "model.add(LeakyReLU(alpha = 0.2))\n",
        "model.add(MaxPooling2D(pool_size=(2,2) , padding = 'same'))\n",
        "\n",
        "#Làm phẳng\n",
        "model.add(Flatten())\n",
        "# ANN Layer\n",
        "#Connect\n",
        "model.add(Dense(128, activation='relu'))\n",
        "model.add(LeakyReLU(alpha = 0.2))\n",
        "model.add(Dense(32, activation='relu'))\n",
        "model.add(LeakyReLU(alpha = 0.1))\n",
        "\n",
        "#Output\n",
        "model.add(Dense(6, activation='softmax'))\n",
        "model.summary()"
      ],
      "metadata": {
        "colab": {
          "base_uri": "https://localhost:8080/"
        },
        "id": "lBzA7dQv257o",
        "outputId": "f95ac52a-43ed-4598-e012-78f44b17183a"
      },
      "execution_count": null,
      "outputs": [
        {
          "output_type": "stream",
          "name": "stdout",
          "text": [
            "Model: \"sequential_7\"\n",
            "_________________________________________________________________\n",
            " Layer (type)                Output Shape              Param #   \n",
            "=================================================================\n",
            " conv2d_33 (Conv2D)          (None, 30, 40, 32)        896       \n",
            "                                                                 \n",
            " leaky_re_lu_28 (LeakyReLU)  (None, 30, 40, 32)        0         \n",
            "                                                                 \n",
            " max_pooling2d_21 (MaxPoolin  (None, 15, 20, 32)       0         \n",
            " g2D)                                                            \n",
            "                                                                 \n",
            " conv2d_34 (Conv2D)          (None, 15, 20, 64)        18496     \n",
            "                                                                 \n",
            " dropout_7 (Dropout)         (None, 15, 20, 64)        0         \n",
            "                                                                 \n",
            " max_pooling2d_22 (MaxPoolin  (None, 8, 10, 64)        0         \n",
            " g2D)                                                            \n",
            "                                                                 \n",
            " conv2d_35 (Conv2D)          (None, 8, 10, 128)        73856     \n",
            "                                                                 \n",
            " leaky_re_lu_29 (LeakyReLU)  (None, 8, 10, 128)        0         \n",
            "                                                                 \n",
            " max_pooling2d_23 (MaxPoolin  (None, 4, 5, 128)        0         \n",
            " g2D)                                                            \n",
            "                                                                 \n",
            " flatten_7 (Flatten)         (None, 2560)              0         \n",
            "                                                                 \n",
            " dense_21 (Dense)            (None, 128)               327808    \n",
            "                                                                 \n",
            " leaky_re_lu_30 (LeakyReLU)  (None, 128)               0         \n",
            "                                                                 \n",
            " dense_22 (Dense)            (None, 32)                4128      \n",
            "                                                                 \n",
            " leaky_re_lu_31 (LeakyReLU)  (None, 32)                0         \n",
            "                                                                 \n",
            " dense_23 (Dense)            (None, 6)                 198       \n",
            "                                                                 \n",
            "=================================================================\n",
            "Total params: 425,382\n",
            "Trainable params: 425,382\n",
            "Non-trainable params: 0\n",
            "_________________________________________________________________\n"
          ]
        }
      ]
    },
    {
      "cell_type": "code",
      "source": [
        "from keras.optimizers import Adam\n",
        "from keras.callbacks import EarlyStopping, ModelCheckpoint\n",
        "\n",
        "# Thiết lập thông số và optimizer\n",
        "model.compile(loss='categorical_crossentropy', optimizer=Adam(), metrics=['accuracy'])\n",
        "\n",
        "# Huấn luyện mô hình với callbacks\n",
        "a = model.fit_generator(training_set, validation_data=test_set, epochs=100, steps_per_epoch=len(training_set), \n",
        "                              validation_steps=len(test_set))"
      ],
      "metadata": {
        "colab": {
          "base_uri": "https://localhost:8080/"
        },
        "id": "_3E7ZKNbzeeC",
        "outputId": "253017a6-7da0-4254-973d-3f94d5365384"
      },
      "execution_count": null,
      "outputs": [
        {
          "output_type": "stream",
          "name": "stdout",
          "text": [
            "Epoch 1/100\n"
          ]
        },
        {
          "output_type": "stream",
          "name": "stderr",
          "text": [
            "<ipython-input-16-7dc827f54ac2>:8: UserWarning: `Model.fit_generator` is deprecated and will be removed in a future version. Please use `Model.fit`, which supports generators.\n",
            "  a = model.fit_generator(training_set, validation_data=test_set, epochs=100, steps_per_epoch=len(training_set),\n"
          ]
        },
        {
          "output_type": "stream",
          "name": "stdout",
          "text": [
            "34/34 [==============================] - 10s 260ms/step - loss: 0.1759 - accuracy: 0.9613 - val_loss: 9.8728 - val_accuracy: 0.1000\n",
            "Epoch 2/100\n",
            "34/34 [==============================] - 7s 215ms/step - loss: 0.0030 - accuracy: 1.0000 - val_loss: 13.2843 - val_accuracy: 0.1667\n",
            "Epoch 3/100\n",
            "34/34 [==============================] - 9s 257ms/step - loss: 5.1961e-04 - accuracy: 1.0000 - val_loss: 14.2151 - val_accuracy: 0.1333\n",
            "Epoch 4/100\n",
            "34/34 [==============================] - 40s 215ms/step - loss: 3.1975e-04 - accuracy: 1.0000 - val_loss: 14.4272 - val_accuracy: 0.1333\n",
            "Epoch 5/100\n",
            "34/34 [==============================] - 9s 275ms/step - loss: 2.0935e-04 - accuracy: 1.0000 - val_loss: 16.2102 - val_accuracy: 0.1667\n",
            "Epoch 6/100\n",
            "34/34 [==============================] - 8s 219ms/step - loss: 7.9967e-05 - accuracy: 1.0000 - val_loss: 14.4429 - val_accuracy: 0.1333\n",
            "Epoch 7/100\n",
            "34/34 [==============================] - 9s 251ms/step - loss: 3.6999e-04 - accuracy: 1.0000 - val_loss: 14.8330 - val_accuracy: 0.1667\n",
            "Epoch 8/100\n",
            "34/34 [==============================] - 9s 261ms/step - loss: 1.1644e-04 - accuracy: 1.0000 - val_loss: 14.7570 - val_accuracy: 0.1333\n",
            "Epoch 9/100\n",
            "34/34 [==============================] - 7s 217ms/step - loss: 5.5127e-05 - accuracy: 1.0000 - val_loss: 14.9708 - val_accuracy: 0.1667\n",
            "Epoch 10/100\n",
            "34/34 [==============================] - 7s 213ms/step - loss: 4.2190e-05 - accuracy: 1.0000 - val_loss: 14.2401 - val_accuracy: 0.1333\n",
            "Epoch 11/100\n",
            "34/34 [==============================] - 9s 248ms/step - loss: 3.6759e-05 - accuracy: 1.0000 - val_loss: 14.8283 - val_accuracy: 0.1667\n",
            "Epoch 12/100\n",
            "34/34 [==============================] - 8s 236ms/step - loss: 3.1417e-05 - accuracy: 1.0000 - val_loss: 15.5135 - val_accuracy: 0.1667\n",
            "Epoch 13/100\n",
            "34/34 [==============================] - 8s 217ms/step - loss: 2.9296e-05 - accuracy: 1.0000 - val_loss: 14.3973 - val_accuracy: 0.1333\n",
            "Epoch 14/100\n",
            "34/34 [==============================] - 9s 263ms/step - loss: 2.3465e-05 - accuracy: 1.0000 - val_loss: 15.1846 - val_accuracy: 0.1333\n",
            "Epoch 15/100\n",
            "34/34 [==============================] - 7s 211ms/step - loss: 1.6256e-05 - accuracy: 1.0000 - val_loss: 13.7660 - val_accuracy: 0.1667\n",
            "Epoch 16/100\n",
            "34/34 [==============================] - 7s 209ms/step - loss: 2.5625e-05 - accuracy: 1.0000 - val_loss: 14.9668 - val_accuracy: 0.2000\n",
            "Epoch 17/100\n",
            "34/34 [==============================] - 9s 261ms/step - loss: 1.6064e-05 - accuracy: 1.0000 - val_loss: 15.4291 - val_accuracy: 0.1667\n",
            "Epoch 18/100\n",
            "34/34 [==============================] - 8s 219ms/step - loss: 8.8205e-06 - accuracy: 1.0000 - val_loss: 15.5411 - val_accuracy: 0.1333\n",
            "Epoch 19/100\n",
            "34/34 [==============================] - 7s 206ms/step - loss: 8.8134e-06 - accuracy: 1.0000 - val_loss: 15.7979 - val_accuracy: 0.1333\n",
            "Epoch 20/100\n",
            "34/34 [==============================] - 8s 231ms/step - loss: 7.6086e-06 - accuracy: 1.0000 - val_loss: 15.5838 - val_accuracy: 0.1667\n",
            "Epoch 21/100\n",
            "34/34 [==============================] - 9s 262ms/step - loss: 1.9506e-05 - accuracy: 1.0000 - val_loss: 16.1044 - val_accuracy: 0.1667\n",
            "Epoch 22/100\n",
            "34/34 [==============================] - 7s 204ms/step - loss: 8.6533e-06 - accuracy: 1.0000 - val_loss: 15.1653 - val_accuracy: 0.2000\n",
            "Epoch 23/100\n",
            "34/34 [==============================] - 9s 257ms/step - loss: 4.8248e-06 - accuracy: 1.0000 - val_loss: 15.7482 - val_accuracy: 0.1667\n",
            "Epoch 24/100\n",
            "34/34 [==============================] - 8s 245ms/step - loss: 4.7672e-06 - accuracy: 1.0000 - val_loss: 15.0617 - val_accuracy: 0.1667\n",
            "Epoch 25/100\n",
            "34/34 [==============================] - 7s 216ms/step - loss: 3.3380e-06 - accuracy: 1.0000 - val_loss: 15.0211 - val_accuracy: 0.2000\n",
            "Epoch 26/100\n",
            "34/34 [==============================] - 9s 253ms/step - loss: 2.7969e-06 - accuracy: 1.0000 - val_loss: 16.2901 - val_accuracy: 0.1333\n",
            "Epoch 27/100\n",
            "34/34 [==============================] - 8s 239ms/step - loss: 3.5724e-06 - accuracy: 1.0000 - val_loss: 14.9827 - val_accuracy: 0.1333\n",
            "Epoch 28/100\n",
            "34/34 [==============================] - 8s 220ms/step - loss: 8.0413e-06 - accuracy: 1.0000 - val_loss: 14.5087 - val_accuracy: 0.1667\n",
            "Epoch 29/100\n",
            "34/34 [==============================] - 9s 266ms/step - loss: 1.0711e-05 - accuracy: 1.0000 - val_loss: 14.9005 - val_accuracy: 0.1333\n",
            "Epoch 30/100\n",
            "34/34 [==============================] - 7s 213ms/step - loss: 4.1711e-06 - accuracy: 1.0000 - val_loss: 14.9322 - val_accuracy: 0.1000\n",
            "Epoch 31/100\n",
            "34/34 [==============================] - 9s 256ms/step - loss: 2.8241e-06 - accuracy: 1.0000 - val_loss: 15.3939 - val_accuracy: 0.1667\n",
            "Epoch 32/100\n",
            "34/34 [==============================] - 7s 219ms/step - loss: 2.5495e-06 - accuracy: 1.0000 - val_loss: 15.2740 - val_accuracy: 0.1333\n",
            "Epoch 33/100\n",
            "34/34 [==============================] - 7s 210ms/step - loss: 1.8751e-06 - accuracy: 1.0000 - val_loss: 14.9263 - val_accuracy: 0.1333\n",
            "Epoch 34/100\n",
            "34/34 [==============================] - 9s 260ms/step - loss: 1.3286e-06 - accuracy: 1.0000 - val_loss: 15.2907 - val_accuracy: 0.1333\n",
            "Epoch 35/100\n",
            "34/34 [==============================] - 8s 225ms/step - loss: 1.6438e-06 - accuracy: 1.0000 - val_loss: 16.4276 - val_accuracy: 0.1667\n",
            "Epoch 36/100\n",
            "34/34 [==============================] - 8s 232ms/step - loss: 1.1479e-06 - accuracy: 1.0000 - val_loss: 14.1748 - val_accuracy: 0.2000\n",
            "Epoch 37/100\n",
            "34/34 [==============================] - 8s 246ms/step - loss: 1.3492e-06 - accuracy: 1.0000 - val_loss: 14.2014 - val_accuracy: 0.2000\n",
            "Epoch 38/100\n",
            "34/34 [==============================] - 7s 203ms/step - loss: 1.1075e-06 - accuracy: 1.0000 - val_loss: 15.7491 - val_accuracy: 0.1667\n",
            "Epoch 39/100\n",
            "34/34 [==============================] - 9s 270ms/step - loss: 1.0146e-06 - accuracy: 1.0000 - val_loss: 15.8261 - val_accuracy: 0.1667\n",
            "Epoch 40/100\n",
            "34/34 [==============================] - 7s 207ms/step - loss: 1.2403e-06 - accuracy: 1.0000 - val_loss: 14.8999 - val_accuracy: 0.2000\n",
            "Epoch 41/100\n",
            "34/34 [==============================] - 9s 272ms/step - loss: 8.3061e-07 - accuracy: 1.0000 - val_loss: 16.0441 - val_accuracy: 0.1333\n",
            "Epoch 42/100\n",
            "34/34 [==============================] - 9s 260ms/step - loss: 9.3651e-07 - accuracy: 1.0000 - val_loss: 16.5033 - val_accuracy: 0.1333\n",
            "Epoch 43/100\n",
            "34/34 [==============================] - 7s 199ms/step - loss: 7.7073e-07 - accuracy: 1.0000 - val_loss: 16.6908 - val_accuracy: 0.1333\n",
            "Epoch 44/100\n",
            "34/34 [==============================] - 9s 265ms/step - loss: 8.9487e-07 - accuracy: 1.0000 - val_loss: 15.7390 - val_accuracy: 0.1667\n",
            "Epoch 45/100\n",
            "34/34 [==============================] - 7s 215ms/step - loss: 7.0909e-07 - accuracy: 1.0000 - val_loss: 16.1128 - val_accuracy: 0.1667\n",
            "Epoch 46/100\n",
            "34/34 [==============================] - 7s 209ms/step - loss: 1.1825e-06 - accuracy: 1.0000 - val_loss: 15.4063 - val_accuracy: 0.1000\n",
            "Epoch 47/100\n",
            "34/34 [==============================] - 9s 259ms/step - loss: 6.0912e-07 - accuracy: 1.0000 - val_loss: 16.5029 - val_accuracy: 0.2000\n",
            "Epoch 48/100\n",
            "34/34 [==============================] - 7s 208ms/step - loss: 7.1294e-07 - accuracy: 1.0000 - val_loss: 15.0317 - val_accuracy: 0.1333\n",
            "Epoch 49/100\n",
            "34/34 [==============================] - 9s 254ms/step - loss: 5.7110e-07 - accuracy: 1.0000 - val_loss: 17.3295 - val_accuracy: 0.1667\n",
            "Epoch 50/100\n",
            "34/34 [==============================] - 7s 211ms/step - loss: 4.2520e-07 - accuracy: 1.0000 - val_loss: 16.4965 - val_accuracy: 0.1667\n",
            "Epoch 51/100\n",
            "34/34 [==============================] - 7s 207ms/step - loss: 9.3054e-07 - accuracy: 1.0000 - val_loss: 16.7427 - val_accuracy: 0.1333\n",
            "Epoch 52/100\n",
            "34/34 [==============================] - 9s 271ms/step - loss: 3.9509e-07 - accuracy: 1.0000 - val_loss: 16.6002 - val_accuracy: 0.1667\n",
            "Epoch 53/100\n",
            "34/34 [==============================] - 7s 210ms/step - loss: 3.3324e-07 - accuracy: 1.0000 - val_loss: 16.3152 - val_accuracy: 0.2000\n",
            "Epoch 54/100\n",
            "34/34 [==============================] - 7s 213ms/step - loss: 5.2902e-07 - accuracy: 1.0000 - val_loss: 15.4691 - val_accuracy: 0.1333\n",
            "Epoch 55/100\n",
            "34/34 [==============================] - 8s 231ms/step - loss: 3.6235e-07 - accuracy: 1.0000 - val_loss: 16.7052 - val_accuracy: 0.2000\n",
            "Epoch 56/100\n",
            "34/34 [==============================] - 9s 261ms/step - loss: 7.4982e-07 - accuracy: 1.0000 - val_loss: 15.8798 - val_accuracy: 0.1667\n",
            "Epoch 57/100\n",
            "34/34 [==============================] - 7s 215ms/step - loss: 3.0544e-07 - accuracy: 1.0000 - val_loss: 16.4687 - val_accuracy: 0.1667\n",
            "Epoch 58/100\n",
            "34/34 [==============================] - 9s 270ms/step - loss: 3.4455e-07 - accuracy: 1.0000 - val_loss: 16.0089 - val_accuracy: 0.1333\n",
            "Epoch 59/100\n",
            "34/34 [==============================] - 8s 243ms/step - loss: 4.2058e-07 - accuracy: 1.0000 - val_loss: 17.0458 - val_accuracy: 0.1000\n",
            "Epoch 60/100\n",
            "34/34 [==============================] - 7s 209ms/step - loss: 3.7619e-07 - accuracy: 1.0000 - val_loss: 16.3286 - val_accuracy: 0.1667\n",
            "Epoch 61/100\n",
            "34/34 [==============================] - 9s 268ms/step - loss: 4.8584e-07 - accuracy: 1.0000 - val_loss: 15.2672 - val_accuracy: 0.2000\n",
            "Epoch 62/100\n",
            "34/34 [==============================] - 7s 207ms/step - loss: 3.4114e-07 - accuracy: 1.0000 - val_loss: 15.8076 - val_accuracy: 0.1000\n",
            "Epoch 63/100\n",
            "34/34 [==============================] - 9s 259ms/step - loss: 3.5543e-07 - accuracy: 1.0000 - val_loss: 16.0282 - val_accuracy: 0.1667\n",
            "Epoch 64/100\n",
            "34/34 [==============================] - 9s 253ms/step - loss: 3.5861e-07 - accuracy: 1.0000 - val_loss: 16.8644 - val_accuracy: 0.1333\n",
            "Epoch 65/100\n",
            "34/34 [==============================] - 7s 205ms/step - loss: 2.5050e-07 - accuracy: 1.0000 - val_loss: 17.3649 - val_accuracy: 0.1667\n",
            "Epoch 66/100\n",
            "34/34 [==============================] - 8s 218ms/step - loss: 3.9212e-07 - accuracy: 1.0000 - val_loss: 15.3105 - val_accuracy: 0.2000\n",
            "Epoch 67/100\n",
            "34/34 [==============================] - 9s 260ms/step - loss: 2.8797e-07 - accuracy: 1.0000 - val_loss: 16.3406 - val_accuracy: 0.2000\n",
            "Epoch 68/100\n",
            "34/34 [==============================] - 7s 208ms/step - loss: 2.8258e-07 - accuracy: 1.0000 - val_loss: 16.3546 - val_accuracy: 0.2000\n",
            "Epoch 69/100\n",
            "34/34 [==============================] - 8s 227ms/step - loss: 4.3222e-07 - accuracy: 1.0000 - val_loss: 16.4989 - val_accuracy: 0.1667\n",
            "Epoch 70/100\n",
            "34/34 [==============================] - 9s 262ms/step - loss: 2.7962e-07 - accuracy: 1.0000 - val_loss: 16.9483 - val_accuracy: 0.1333\n",
            "Epoch 71/100\n",
            "34/34 [==============================] - 7s 214ms/step - loss: 3.3004e-07 - accuracy: 1.0000 - val_loss: 16.9886 - val_accuracy: 0.1667\n",
            "Epoch 72/100\n",
            "34/34 [==============================] - 7s 211ms/step - loss: 2.3820e-07 - accuracy: 1.0000 - val_loss: 17.2346 - val_accuracy: 0.1000\n",
            "Epoch 73/100\n",
            "34/34 [==============================] - 9s 266ms/step - loss: 2.2084e-07 - accuracy: 1.0000 - val_loss: 16.3333 - val_accuracy: 0.1333\n",
            "Epoch 74/100\n",
            "34/34 [==============================] - 8s 219ms/step - loss: 1.8898e-07 - accuracy: 1.0000 - val_loss: 16.8267 - val_accuracy: 0.1333\n",
            "Epoch 75/100\n",
            "34/34 [==============================] - 9s 264ms/step - loss: 2.9137e-07 - accuracy: 1.0000 - val_loss: 17.3433 - val_accuracy: 0.1333\n",
            "Epoch 76/100\n",
            "34/34 [==============================] - 9s 257ms/step - loss: 1.6217e-07 - accuracy: 1.0000 - val_loss: 16.7252 - val_accuracy: 0.1667\n",
            "Epoch 77/100\n",
            "34/34 [==============================] - 7s 213ms/step - loss: 1.5525e-07 - accuracy: 1.0000 - val_loss: 16.6452 - val_accuracy: 0.1333\n",
            "Epoch 78/100\n",
            "34/34 [==============================] - 9s 275ms/step - loss: 2.7676e-07 - accuracy: 1.0000 - val_loss: 17.6281 - val_accuracy: 0.1333\n",
            "Epoch 79/100\n",
            "34/34 [==============================] - 7s 209ms/step - loss: 1.5250e-07 - accuracy: 1.0000 - val_loss: 17.3899 - val_accuracy: 0.2333\n",
            "Epoch 80/100\n",
            "34/34 [==============================] - 7s 215ms/step - loss: 1.9524e-07 - accuracy: 1.0000 - val_loss: 17.3087 - val_accuracy: 0.1667\n",
            "Epoch 81/100\n",
            "34/34 [==============================] - 9s 249ms/step - loss: 1.7316e-07 - accuracy: 1.0000 - val_loss: 16.4434 - val_accuracy: 0.1333\n",
            "Epoch 82/100\n",
            "34/34 [==============================] - 8s 238ms/step - loss: 1.7107e-07 - accuracy: 1.0000 - val_loss: 15.8878 - val_accuracy: 0.1667\n",
            "Epoch 83/100\n",
            "34/34 [==============================] - 7s 217ms/step - loss: 1.7557e-07 - accuracy: 1.0000 - val_loss: 16.6152 - val_accuracy: 0.1333\n",
            "Epoch 84/100\n",
            "34/34 [==============================] - 8s 235ms/step - loss: 1.0668e-07 - accuracy: 1.0000 - val_loss: 16.4231 - val_accuracy: 0.2000\n",
            "Epoch 85/100\n",
            "34/34 [==============================] - 9s 259ms/step - loss: 1.1009e-07 - accuracy: 1.0000 - val_loss: 16.2619 - val_accuracy: 0.1333\n",
            "Epoch 86/100\n",
            "34/34 [==============================] - 7s 215ms/step - loss: 1.7392e-07 - accuracy: 1.0000 - val_loss: 16.1762 - val_accuracy: 0.1333\n",
            "Epoch 87/100\n",
            "34/34 [==============================] - 8s 228ms/step - loss: 1.2283e-07 - accuracy: 1.0000 - val_loss: 16.3027 - val_accuracy: 0.1333\n",
            "Epoch 88/100\n",
            "34/34 [==============================] - 9s 263ms/step - loss: 1.7568e-07 - accuracy: 1.0000 - val_loss: 17.7931 - val_accuracy: 0.1667\n",
            "Epoch 89/100\n",
            "34/34 [==============================] - 8s 224ms/step - loss: 1.3778e-07 - accuracy: 1.0000 - val_loss: 17.3480 - val_accuracy: 0.1667\n",
            "Epoch 90/100\n",
            "34/34 [==============================] - 7s 214ms/step - loss: 3.1950e-07 - accuracy: 1.0000 - val_loss: 16.6181 - val_accuracy: 0.1667\n",
            "Epoch 91/100\n",
            "34/34 [==============================] - 8s 234ms/step - loss: 1.0438e-07 - accuracy: 1.0000 - val_loss: 17.5263 - val_accuracy: 0.1333\n",
            "Epoch 92/100\n",
            "34/34 [==============================] - 10s 280ms/step - loss: 1.3360e-07 - accuracy: 1.0000 - val_loss: 16.9338 - val_accuracy: 0.1333\n",
            "Epoch 93/100\n",
            "34/34 [==============================] - 7s 210ms/step - loss: 9.7894e-08 - accuracy: 1.0000 - val_loss: 16.0698 - val_accuracy: 0.1333\n",
            "Epoch 94/100\n",
            "34/34 [==============================] - 9s 269ms/step - loss: 1.2130e-07 - accuracy: 1.0000 - val_loss: 17.5445 - val_accuracy: 0.1333\n",
            "Epoch 95/100\n",
            "34/34 [==============================] - 9s 257ms/step - loss: 3.2773e-07 - accuracy: 1.0000 - val_loss: 16.9181 - val_accuracy: 0.2000\n",
            "Epoch 96/100\n",
            "34/34 [==============================] - 7s 206ms/step - loss: 1.7063e-07 - accuracy: 1.0000 - val_loss: 16.6710 - val_accuracy: 0.1667\n",
            "Epoch 97/100\n",
            "34/34 [==============================] - 9s 265ms/step - loss: 1.2778e-07 - accuracy: 1.0000 - val_loss: 18.5954 - val_accuracy: 0.1333\n",
            "Epoch 98/100\n",
            "34/34 [==============================] - 9s 264ms/step - loss: 7.7568e-08 - accuracy: 1.0000 - val_loss: 17.1042 - val_accuracy: 0.1667\n",
            "Epoch 99/100\n",
            "34/34 [==============================] - 7s 215ms/step - loss: 8.8336e-08 - accuracy: 1.0000 - val_loss: 17.0513 - val_accuracy: 0.1667\n",
            "Epoch 100/100\n",
            "34/34 [==============================] - 9s 268ms/step - loss: 9.5807e-08 - accuracy: 1.0000 - val_loss: 17.1242 - val_accuracy: 0.2000\n"
          ]
        }
      ]
    },
    {
      "cell_type": "code",
      "source": [
        "# đánh giá mô hình\n",
        "test_loss, test_acc = model.evaluate(test_set, verbose=False)\n",
        "print(\"Test loss:\", test_loss)\n",
        "print(\"Test accuracy:\", test_acc)"
      ],
      "metadata": {
        "colab": {
          "base_uri": "https://localhost:8080/"
        },
        "id": "TBpy86lr2quI",
        "outputId": "ca809cea-cf7e-485a-cb99-b6012be042f7"
      },
      "execution_count": null,
      "outputs": [
        {
          "output_type": "stream",
          "name": "stdout",
          "text": [
            "Test loss: 17.36195182800293\n",
            "Test accuracy: 0.1666666716337204\n"
          ]
        }
      ]
    },
    {
      "cell_type": "code",
      "source": [
        "import matplotlib.pyplot as plt\n",
        "# plot the loss\n",
        "plt.plot(a.history['loss'], label='train loss')\n",
        "plt.plot(a.history['val_loss'], label='val loss')\n",
        "plt.legend()\n",
        "plt.show()\n",
        "plt.savefig('LossVal_loss')\n",
        "\n",
        "# plot the accuracy\n",
        "plt.plot(a.history['accuracy'], label='train acc')\n",
        "plt.plot(a.history['val_accuracy'], label='val acc')\n",
        "plt.legend()\n",
        "plt.show()\n",
        "plt.savefig('AccVal_acc')"
      ],
      "metadata": {
        "colab": {
          "base_uri": "https://localhost:8080/",
          "height": 860
        },
        "id": "4erw8J867NPO",
        "outputId": "846e6bed-a8f5-49a0-aa2c-d1caf8f56278"
      },
      "execution_count": null,
      "outputs": [
        {
          "output_type": "display_data",
          "data": {
            "text/plain": [
              "<Figure size 640x480 with 1 Axes>"
            ],
            "image/png": "[encoded data removed]"
          },
          "metadata": {}
        },
        {
          "output_type": "display_data",
          "data": {
            "text/plain": [
              "<Figure size 640x480 with 1 Axes>"
            ],
            "image/png": "[encoded data removed]"
          },
          "metadata": {}
        },
        {
          "output_type": "display_data",
          "data": {
            "text/plain": [
              "<Figure size 640x480 with 0 Axes>"
            ]
          },
          "metadata": {}
        }
      ]
    },
    {
      "cell_type": "code",
      "source": [
        "# Lưu file .h5\n",
        "model.save('/content/drive/MyDrive/BT1/Money/model_money.h5')"
      ],
      "metadata": {
        "id": "lxUS6LP07Vd9"
      },
      "execution_count": null,
      "outputs": []
    },
    {
      "cell_type": "code",
      "source": [
        "#cho phep truy cap vao foder\n",
        "import os\n",
        "os.chdir('/content/drive/MyDrive/BT1/Money/Valid')"
      ],
      "metadata": {
        "id": "oaOLgNtx7ect"
      },
      "execution_count": null,
      "outputs": []
    },
    {
      "cell_type": "code",
      "source": [
        "import numpy as np\n",
        "from keras.preprocessing import image\n",
        "#Tạo vòng lặp\n",
        "while 1 :\n",
        " nh = input('Chọn' ' image : ')\n",
        " #nhập dấu \"-\" thì thoát khỏi vòng lặp\n",
        " if (nh=='-'): \n",
        "     break\n",
        " else:\n",
        "   try: \n",
        "     test_image = load_img(\"/content/drive/MyDrive/BT1/Money/Valid/{}.png\".format(nh),\n",
        "                             target_size=(30,40)) #Scale\n",
        "     test_image = img_to_array(test_image)\n",
        "     plt.imshow(test_image/255)\n",
        "     test_image = np.expand_dims(test_image,axis=0)\n",
        "     result = model.predict(test_image)\n",
        "     training_set.class_indices\n",
        "     print(result)\n",
        "     x=0\n",
        "     c=0\n",
        "     i=0\n",
        "     while (i<6):\n",
        "       #kiểm tra nếu xác suất dự đoán của lớp thứ i lớn hơn hoặc bằng x \n",
        "       #thì gán x bằng xác suất dự đoán của lớp đó và c là chỉ số của lớp đó.\n",
        "       if result[0][i]>=x:\n",
        "         x=result[0][i]\n",
        "         c=i\n",
        "        \n",
        "       i=i+1\n",
        "     if (x<=0 and c>=5) :\n",
        "         c=5\n",
        "     if c == 0:\n",
        "       prediction = '10k'\n",
        "     elif c == 1:\n",
        "       prediction = '1k'\n",
        "     elif c == 2:\n",
        "       prediction = '200k'\n",
        "     elif c == 3:\n",
        "       prediction = '2k'\n",
        "     elif c == 4:\n",
        "       prediction = '50k'\n",
        "     elif c == 5:\n",
        "       prediction = '5k'\n",
        "           \n",
        "     print(prediction)\n",
        "   except:\n",
        "      print('Tên của hình ảnh không tồn tại '  )"
      ],
      "metadata": {
        "colab": {
          "base_uri": "https://localhost:8080/",
          "height": 725
        },
        "id": "Jq1obZMm7p58",
        "outputId": "29b81352-19b7-43d6-acc0-dec98d9ac8e5"
      },
      "execution_count": null,
      "outputs": [
        {
          "name": "stdout",
          "output_type": "stream",
          "text": [
            "Chọn image : 5\n",
            "1/1 [==============================] - 0s 26ms/step\n",
            "[[0. 0. 0. 0. 0. 1.]]\n",
            "5k\n",
            "Chọn image : 10\n",
            "1/1 [==============================] - 0s 59ms/step\n",
            "[[1. 0. 0. 0. 0. 0.]]\n",
            "10k\n",
            "Chọn image : 50\n",
            "1/1 [==============================] - 0s 27ms/step\n",
            "[[0. 0. 0. 0. 1. 0.]]\n",
            "50k\n",
            "Chọn image : 1\n",
            "1/1 [==============================] - 0s 27ms/step\n",
            "[[0. 1. 0. 0. 0. 0.]]\n",
            "1k\n",
            "Chọn image : -\n"
          ]
        },
        {
          "output_type": "display_data",
          "data": {
            "text/plain": [
              "<Figure size 640x480 with 1 Axes>"
            ],
            "image/png": "[encoded data removed]"
          },
          "metadata": {}
        }
      ]
    }
  ]
}